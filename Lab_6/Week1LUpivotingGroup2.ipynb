{
  "nbformat": 4,
  "nbformat_minor": 0,
  "metadata": {
    "colab": {
      "provenance": [],
      "include_colab_link": true
    },
    "kernelspec": {
      "name": "python3",
      "display_name": "Python 3"
    }
  },
  "cells": [
    {
      "cell_type": "markdown",
      "metadata": {
        "id": "view-in-github",
        "colab_type": "text"
      },
      "source": [
        "<a href=\"https://colab.research.google.com/github/jusrodriguez/MetNum2024UN2024/blob/main/Lab_6/Week1LUpivotingGroup2.ipynb\" target=\"_parent\"><img src=\"https://colab.research.google.com/assets/colab-badge.svg\" alt=\"Open In Colab\"/></a>"
      ]
    },
    {
      "cell_type": "markdown",
      "source": [
        "\n",
        "\n",
        "\n",
        "\n",
        "Cristian Javier Medina Barrios\n",
        "\n",
        "Cristian Daniel Montáñez Pineda\n",
        "\n",
        "Sergio Alejandro Ruiz Hurtado\n",
        "\n"
      ],
      "metadata": {
        "id": "krvHxc8QL6j8"
      }
    },
    {
      "cell_type": "markdown",
      "metadata": {
        "id": "OBc93xD1zMDD"
      },
      "source": [
        "# I. $LU$ factorization of a square matrix\n",
        "When we premultply $A$ by lower triangular elemetary matrices $\\Lambda_j$ it is trasfrommed in an  upper triangular matrix $U$\n",
        "\n",
        "$$  \\Lambda_{n-1}  \\ldots\\Lambda_2  \\Lambda_1 A  = U$$\n",
        "\n",
        "$$  A  = (\\Lambda_{n-1}  \\ldots\\Lambda_2  \\Lambda_2 )^{-1} U$$\n",
        "\n",
        "The inverse of a product of matrices is the revesre product of inverses\n",
        "$$  A  = (\\Lambda_1^{-1}  \\Lambda_2^{-1} \\ldots  \\Lambda_{n-1}^{-1}) U$$\n",
        "\n",
        "and inverse of a Lower Triangular Elemetary Matrix is minus the matrix $\\Lambda_j^{-1} = - \\Lambda_j$, so\n",
        "\n",
        "$$ A  =  (-\\Lambda_1) (-\\Lambda_2) \\ldots   (-\\Lambda_{n-1})  U$$\n",
        "\n",
        "So the $LU$ column pivot factorization is\n",
        "$$  A  = L U$$\n",
        "with\n",
        "$$ U = \\Lambda_{n-1}  \\ldots\\Lambda_2  \\Lambda_1 A  $$\n",
        "an upper triangular matrix\n",
        "$$ L  =  \\Lambda_1^{-1}  \\Lambda_2^{-1} \\ldots  \\Lambda_{n-1}^{-1} m = (-\\Lambda_1) (-\\Lambda_2) \\ldots   (-\\Lambda_{n-1})  $$\n",
        "an lower triangular matrix."
      ]
    },
    {
      "cell_type": "markdown",
      "metadata": {
        "id": "dmO1wEA5zVVS"
      },
      "source": [
        "Consider a simple naive implementation of the LU decomposition.\n",
        "\n",
        "Note that we're using the `numpy` arrays to represent matrices [do **not** use `np.matrix`]."
      ]
    },
    {
      "cell_type": "code",
      "metadata": {
        "id": "0jzv0-yyzDM2"
      },
      "source": [
        "import numpy as np\n",
        "\n",
        "def diy_lu(a):\n",
        "    \"\"\"Construct the LU decomposition of the input matrix.\n",
        "\n",
        "    Naive LU decomposition: work column by column, accumulate elementary triangular matrices.\n",
        "    No pivoting.\n",
        "    \"\"\"\n",
        "    N = a.shape[0]\n",
        "\n",
        "    u = a.copy()\n",
        "    L = np.eye(N)\n",
        "    for j in range(N-1):\n",
        "        lam = np.eye(N)\n",
        "        gamma = u[j+1:, j] / u[j, j]\n",
        "        lam[j+1:, j] = -gamma\n",
        "        u = lam @ u\n",
        "\n",
        "        lam[j+1:, j] = gamma\n",
        "        L = L @ lam\n",
        "    return L, u"
      ],
      "execution_count": null,
      "outputs": []
    },
    {
      "cell_type": "code",
      "metadata": {
        "colab": {
          "base_uri": "https://localhost:8080/"
        },
        "id": "yW-cZc_qzd0Z",
        "outputId": "9bc45cfb-35da-4952-a02f-37e1a60b077c"
      },
      "source": [
        "# Now, generate a full rank matrix and test the naive implementation\n",
        "\n",
        "import numpy as np\n",
        "\n",
        "N = 6\n",
        "A = np.zeros((N, N), dtype=float)\n",
        "for i in range(N):\n",
        "    for j in range(N):\n",
        "        A[i, j] = 3. / (0.6*i*j + 1)\n",
        "\n",
        "np.linalg.matrix_rank(A)"
      ],
      "execution_count": null,
      "outputs": [
        {
          "output_type": "execute_result",
          "data": {
            "text/plain": [
              "6"
            ]
          },
          "metadata": {},
          "execution_count": 13
        }
      ]
    },
    {
      "cell_type": "code",
      "metadata": {
        "colab": {
          "base_uri": "https://localhost:8080/"
        },
        "id": "MJs7LATHzhZq",
        "outputId": "bc33f06b-5395-463e-ade0-0127eab1f98d"
      },
      "source": [
        "np.round(A,3)"
      ],
      "execution_count": null,
      "outputs": [
        {
          "output_type": "execute_result",
          "data": {
            "text/plain": [
              "array([[3.   , 3.   , 3.   , 3.   , 3.   , 3.   ],\n",
              "       [3.   , 1.875, 1.364, 1.071, 0.882, 0.75 ],\n",
              "       [3.   , 1.364, 0.882, 0.652, 0.517, 0.429],\n",
              "       [3.   , 1.071, 0.652, 0.469, 0.366, 0.3  ],\n",
              "       [3.   , 0.882, 0.517, 0.366, 0.283, 0.231],\n",
              "       [3.   , 0.75 , 0.429, 0.3  , 0.231, 0.188]])"
            ]
          },
          "metadata": {},
          "execution_count": 14
        }
      ]
    },
    {
      "cell_type": "code",
      "metadata": {
        "colab": {
          "base_uri": "https://localhost:8080/"
        },
        "id": "Y21gOqQ8zsqp",
        "outputId": "c2cfed7f-e1a9-4721-bccd-4e9a556b4417"
      },
      "source": [
        "L, U = diy_lu(A)\n",
        "\n",
        "print(np.round(L,3), \"\\n\")\n",
        "print(np.round(U,3), \"\\n\")\n",
        "\n",
        "# Quick sanity check: L times U must equal the original matrix, up to floating-point errors.\n",
        "print(np.round(L@U - A,3))"
      ],
      "execution_count": null,
      "outputs": [
        {
          "output_type": "stream",
          "name": "stdout",
          "text": [
            "[[1.    0.    0.    0.    0.    0.   ]\n",
            " [1.    1.    0.    0.    0.    0.   ]\n",
            " [1.    1.455 1.    0.    0.    0.   ]\n",
            " [1.    1.714 1.742 1.    0.    0.   ]\n",
            " [1.    1.882 2.276 2.039 1.    0.   ]\n",
            " [1.    2.    2.671 2.944 2.354 1.   ]] \n",
            "\n",
            "[[ 3.000e+00  3.000e+00  3.000e+00  3.000e+00  3.000e+00  3.000e+00]\n",
            " [ 0.000e+00 -1.125e+00 -1.636e+00 -1.929e+00 -2.118e+00 -2.250e+00]\n",
            " [ 0.000e+00  0.000e+00  2.630e-01  4.570e-01  5.970e-01  7.010e-01]\n",
            " [ 0.000e+00  0.000e+00  0.000e+00 -2.200e-02 -4.500e-02 -6.500e-02]\n",
            " [ 0.000e+00 -0.000e+00  0.000e+00  0.000e+00  1.000e-03  2.000e-03]\n",
            " [ 0.000e+00  0.000e+00  0.000e+00 -0.000e+00  0.000e+00 -0.000e+00]] \n",
            "\n",
            "[[ 0.  0.  0.  0.  0.  0.]\n",
            " [ 0.  0.  0.  0.  0.  0.]\n",
            " [ 0.  0. -0.  0.  0. -0.]\n",
            " [ 0.  0.  0. -0. -0.  0.]\n",
            " [ 0.  0.  0. -0. -0.  0.]\n",
            " [ 0.  0. -0. -0.  0.  0.]]\n"
          ]
        }
      ]
    },
    {
      "cell_type": "markdown",
      "metadata": {
        "id": "oSvHYsWuza06"
      },
      "source": [
        "# II. The need for pivoting"
      ]
    },
    {
      "cell_type": "markdown",
      "metadata": {
        "id": "B6z9Gausz4lS"
      },
      "source": [
        "Let's tweak the matrix a little bit, we only change a single element:"
      ]
    },
    {
      "cell_type": "code",
      "metadata": {
        "id": "tkGx4QSTzxOo"
      },
      "source": [
        "A1 = A.copy()\n",
        "A1[1, 1] = 3"
      ],
      "execution_count": null,
      "outputs": []
    },
    {
      "cell_type": "code",
      "source": [
        "np.round(A1,3)"
      ],
      "metadata": {
        "colab": {
          "base_uri": "https://localhost:8080/"
        },
        "id": "TRC3nCQCkISv",
        "outputId": "068da057-6ba4-425f-851d-bdff488e50f2"
      },
      "execution_count": null,
      "outputs": [
        {
          "output_type": "execute_result",
          "data": {
            "text/plain": [
              "array([[3.   , 3.   , 3.   , 3.   , 3.   , 3.   ],\n",
              "       [3.   , 3.   , 1.364, 1.071, 0.882, 0.75 ],\n",
              "       [3.   , 1.364, 0.882, 0.652, 0.517, 0.429],\n",
              "       [3.   , 1.071, 0.652, 0.469, 0.366, 0.3  ],\n",
              "       [3.   , 0.882, 0.517, 0.366, 0.283, 0.231],\n",
              "       [3.   , 0.75 , 0.429, 0.3  , 0.231, 0.188]])"
            ]
          },
          "metadata": {},
          "execution_count": 5
        }
      ]
    },
    {
      "cell_type": "code",
      "metadata": {
        "colab": {
          "base_uri": "https://localhost:8080/"
        },
        "id": "dotDoRQ0jT71",
        "outputId": "5d41f52d-49dd-4269-edba-ae2e9b139106"
      },
      "source": [
        "np.linalg.matrix_rank(A1)"
      ],
      "execution_count": null,
      "outputs": [
        {
          "output_type": "execute_result",
          "data": {
            "text/plain": [
              "6"
            ]
          },
          "metadata": {},
          "execution_count": 6
        }
      ]
    },
    {
      "cell_type": "code",
      "metadata": {
        "colab": {
          "base_uri": "https://localhost:8080/"
        },
        "id": "NfvRXF3l0Czz",
        "outputId": "9c840003-f20b-4610-bf2b-ad5f491ab871"
      },
      "source": [
        "L, U= diy_lu(A1)\n",
        "\n",
        "print(L, U)"
      ],
      "execution_count": null,
      "outputs": [
        {
          "output_type": "stream",
          "name": "stdout",
          "text": [
            "[[nan nan nan nan nan nan]\n",
            " [nan nan nan nan nan nan]\n",
            " [nan nan nan nan nan nan]\n",
            " [nan nan nan nan nan nan]\n",
            " [nan nan nan nan nan nan]\n",
            " [nan nan nan nan nan nan]] [[nan nan nan nan nan nan]\n",
            " [nan nan nan nan nan nan]\n",
            " [nan nan nan nan nan nan]\n",
            " [nan nan nan nan nan nan]\n",
            " [nan nan nan nan nan nan]\n",
            " [nan nan nan nan nan nan]]\n"
          ]
        },
        {
          "output_type": "stream",
          "name": "stderr",
          "text": [
            "<ipython-input-1-d151c0ea51fb>:15: RuntimeWarning: divide by zero encountered in divide\n",
            "  gamma = u[j+1:, j] / u[j, j]\n",
            "<ipython-input-1-d151c0ea51fb>:17: RuntimeWarning: invalid value encountered in matmul\n",
            "  u = lam @ u\n",
            "<ipython-input-1-d151c0ea51fb>:20: RuntimeWarning: invalid value encountered in matmul\n",
            "  L = L @ lam\n",
            "<ipython-input-1-d151c0ea51fb>:15: RuntimeWarning: invalid value encountered in divide\n",
            "  gamma = u[j+1:, j] / u[j, j]\n"
          ]
        }
      ]
    },
    {
      "cell_type": "markdown",
      "source": [
        "The LU decomposition from scipy.linalg.lu already implements pivoting other sophisticated controls\n",
        "\n",
        "https://docs.scipy.org/doc/scipy/reference/generated/scipy.linalg.lu.html\n",
        "\n",
        "$$A = P L U$$\n",
        "\n",
        "```python\n",
        "\n",
        " P ,  L,  U  = scipy.linalg.lu(a, permute_l=False, overwrite_a=False, check_finite=True)\n",
        "\n",
        "# Returns\n",
        "# (If permute_l == False)\n",
        "# P : Permutation matrix\n",
        "# L : Lower triangular or trapezoidal matrix with unit diagonal. K = min\n",
        "# U : Upper triangular or trapezoidal matrix\n",
        "```"
      ],
      "metadata": {
        "id": "1wOBYHGcyIRG"
      }
    },
    {
      "cell_type": "code",
      "source": [
        "from scipy import linalg\n",
        "P ,  L,  U = linalg.lu(A)\n",
        "\n",
        "print(\"P\\n\",P, \"\\n\")\n",
        "print(\"L\\n\",L, \"\\n\")\n",
        "print(\"U\\n\",np.round(U,3), \"\\n\")\n",
        "print(\"A= P@L@U\\n\", P@L@U, \"\\n\")\n",
        "print(\"A\\n\",A, \"\\n\")\n"
      ],
      "metadata": {
        "colab": {
          "base_uri": "https://localhost:8080/"
        },
        "id": "npXQN18nyHS_",
        "outputId": "3f12cc90-51c9-4e96-e29b-0ec19f560b62"
      },
      "execution_count": null,
      "outputs": [
        {
          "output_type": "stream",
          "name": "stdout",
          "text": [
            "P\n",
            " [[1. 0. 0. 0. 0. 0.]\n",
            " [0. 0. 1. 0. 0. 0.]\n",
            " [0. 0. 0. 1. 0. 0.]\n",
            " [0. 0. 0. 0. 1. 0.]\n",
            " [0. 0. 0. 0. 0. 1.]\n",
            " [0. 1. 0. 0. 0. 0.]] \n",
            "\n",
            "L\n",
            " [[1.         0.         0.         0.         0.         0.        ]\n",
            " [1.         1.         0.         0.         0.         0.        ]\n",
            " [1.         0.5        1.         0.         0.         0.        ]\n",
            " [1.         0.72727273 0.70588235 1.         0.         0.        ]\n",
            " [1.         0.85714286 0.40993789 0.83482143 1.         0.        ]\n",
            " [1.         0.94117647 0.17849899 0.4255677  0.78870221 1.        ]] \n",
            "\n",
            "U\n",
            " [[ 3.000e+00  3.000e+00  3.000e+00  3.000e+00  3.000e+00  3.000e+00]\n",
            " [ 0.000e+00 -2.250e+00 -2.571e+00 -2.700e+00 -2.769e+00 -2.812e+00]\n",
            " [ 0.000e+00  0.000e+00 -3.510e-01 -5.790e-01 -7.330e-01 -8.440e-01]\n",
            " [ 0.000e+00  0.000e+00  0.000e+00  2.400e-02  4.900e-02  7.000e-02]\n",
            " [ 0.000e+00  0.000e+00  0.000e+00  0.000e+00 -1.000e-03 -2.000e-03]\n",
            " [ 0.000e+00  0.000e+00  0.000e+00  0.000e+00  0.000e+00  0.000e+00]] \n",
            "\n",
            "A= P@L@U\n",
            " [[3.         3.         3.         3.         3.         3.        ]\n",
            " [3.         1.875      1.36363636 1.07142857 0.88235294 0.75      ]\n",
            " [3.         1.36363636 0.88235294 0.65217391 0.51724138 0.42857143]\n",
            " [3.         1.07142857 0.65217391 0.46875    0.36585366 0.3       ]\n",
            " [3.         0.88235294 0.51724138 0.36585366 0.28301887 0.23076923]\n",
            " [3.         0.75       0.42857143 0.3        0.23076923 0.1875    ]] \n",
            "\n",
            "A\n",
            " [[3.         3.         3.         3.         3.         3.        ]\n",
            " [3.         1.875      1.36363636 1.07142857 0.88235294 0.75      ]\n",
            " [3.         1.36363636 0.88235294 0.65217391 0.51724138 0.42857143]\n",
            " [3.         1.07142857 0.65217391 0.46875    0.36585366 0.3       ]\n",
            " [3.         0.88235294 0.51724138 0.36585366 0.28301887 0.23076923]\n",
            " [3.         0.75       0.42857143 0.3        0.23076923 0.1875    ]] \n",
            "\n"
          ]
        }
      ]
    },
    {
      "cell_type": "code",
      "source": [
        "P ,  L,  U = linalg.lu(A1)\n",
        "\n",
        "print(\"P\\n\",P, \"\\n\")\n",
        "print(\"L\\n\",L, \"\\n\")\n",
        "print(\"U\\n\",np.round(U,3), \"\\n\")\n",
        "print(\"A= P@L@U\\n\", P@L@U, \"\\n\")\n",
        "print(\"A\\n\",A, \"\\n\")\n"
      ],
      "metadata": {
        "colab": {
          "base_uri": "https://localhost:8080/"
        },
        "id": "U31oKbCWzKXe",
        "outputId": "936402a9-1ea0-4bb2-d5e9-8d389808b376"
      },
      "execution_count": null,
      "outputs": [
        {
          "output_type": "stream",
          "name": "stdout",
          "text": [
            "P\n",
            " [[1. 0. 0. 0. 0. 0.]\n",
            " [0. 0. 1. 0. 0. 0.]\n",
            " [0. 0. 0. 1. 0. 0.]\n",
            " [0. 0. 0. 0. 1. 0.]\n",
            " [0. 0. 0. 0. 0. 1.]\n",
            " [0. 1. 0. 0. 0. 0.]] \n",
            "\n",
            "L\n",
            " [[ 1.          0.          0.          0.          0.          0.        ]\n",
            " [ 1.          1.          0.          0.          0.          0.        ]\n",
            " [ 1.         -0.          1.          0.          0.          0.        ]\n",
            " [ 1.          0.72727273  0.1512605   1.          0.          0.        ]\n",
            " [ 1.          0.85714286  0.08784383  0.51421669  1.          0.        ]\n",
            " [ 1.          0.94117647  0.03824978  0.2076544   0.64143198  1.        ]] \n",
            "\n",
            "U\n",
            " [[ 3.000e+00  3.000e+00  3.000e+00  3.000e+00  3.000e+00  3.000e+00]\n",
            " [ 0.000e+00 -2.250e+00 -2.571e+00 -2.700e+00 -2.769e+00 -2.812e+00]\n",
            " [ 0.000e+00  0.000e+00 -1.636e+00 -1.929e+00 -2.118e+00 -2.250e+00]\n",
            " [ 0.000e+00  0.000e+00  0.000e+00 -9.200e-02 -1.480e-01 -1.860e-01]\n",
            " [ 0.000e+00  0.000e+00  0.000e+00  0.000e+00  2.000e-03  4.000e-03]\n",
            " [ 0.000e+00  0.000e+00  0.000e+00  0.000e+00  0.000e+00 -0.000e+00]] \n",
            "\n",
            "A= P@L@U\n",
            " [[3.         3.         3.         3.         3.         3.        ]\n",
            " [3.         3.         1.36363636 1.07142857 0.88235294 0.75      ]\n",
            " [3.         1.36363636 0.88235294 0.65217391 0.51724138 0.42857143]\n",
            " [3.         1.07142857 0.65217391 0.46875    0.36585366 0.3       ]\n",
            " [3.         0.88235294 0.51724138 0.36585366 0.28301887 0.23076923]\n",
            " [3.         0.75       0.42857143 0.3        0.23076923 0.1875    ]] \n",
            "\n",
            "A\n",
            " [[3.         3.         3.         3.         3.         3.        ]\n",
            " [3.         1.875      1.36363636 1.07142857 0.88235294 0.75      ]\n",
            " [3.         1.36363636 0.88235294 0.65217391 0.51724138 0.42857143]\n",
            " [3.         1.07142857 0.65217391 0.46875    0.36585366 0.3       ]\n",
            " [3.         0.88235294 0.51724138 0.36585366 0.28301887 0.23076923]\n",
            " [3.         0.75       0.42857143 0.3        0.23076923 0.1875    ]] \n",
            "\n"
          ]
        }
      ]
    },
    {
      "cell_type": "markdown",
      "metadata": {
        "id": "OqWxeK450I58"
      },
      "source": [
        "### Test II.1\n",
        "\n",
        "For a naive LU decomposition to work, all leading minors of a matrix should be non-zero. Check if this requirement is satisfied for the two matrices `a` and `a1`.\n",
        "\n",
        "(20% of the grade)"
      ]
    },
    {
      "cell_type": "code",
      "metadata": {
        "colab": {
          "base_uri": "https://localhost:8080/"
        },
        "id": "qCf9-MUqN927",
        "outputId": "08dc22a3-adaa-4acd-e740-a9a4cd2d1157"
      },
      "source": [
        "\n",
        "def leading_minors_test(A):\n",
        "   \"\"\"\n",
        "  Function to check all leading Minors of a Matrix not equal to 0\n",
        "   \"\"\"\n",
        "  # ... ENTER YOUR CODE HERE ...\n",
        "   print(\"Check matrix A =\\n\", A)\n",
        "   result = True\n",
        "   import numpy as np\n",
        "   for i in range(1, A.shape[0] + 1):\n",
        "       sub_matrix = A[:i, :i]\n",
        "       leading_minor = np.linalg.det(sub_matrix)\n",
        "       if leading_minor == 0:\n",
        "           result = False\n",
        "       print(i, \"th leading minor of M =\", leading_minor)\n",
        "   print(\"determinant of A =\", np.linalg.det(A))\n",
        "   return result\n",
        "\n",
        "leading_minors_test(A), leading_minors_test(A1)"
      ],
      "execution_count": null,
      "outputs": [
        {
          "output_type": "stream",
          "name": "stdout",
          "text": [
            "Check matrix A =\n",
            " [[3.         3.         3.         3.         3.         3.        ]\n",
            " [3.         1.875      1.36363636 1.07142857 0.88235294 0.75      ]\n",
            " [3.         1.36363636 0.88235294 0.65217391 0.51724138 0.42857143]\n",
            " [3.         1.07142857 0.65217391 0.46875    0.36585366 0.3       ]\n",
            " [3.         0.88235294 0.51724138 0.36585366 0.28301887 0.23076923]\n",
            " [3.         0.75       0.42857143 0.3        0.23076923 0.1875    ]]\n",
            "1 th leading minor of M = 3.0000000000000004\n",
            "2 th leading minor of M = -3.375\n",
            "3 th leading minor of M = -0.8859990277102598\n",
            "4 th leading minor of M = 0.019467001032005795\n",
            "5 th leading minor of M = 1.5728974209748546e-05\n",
            "6 th leading minor of M = -2.4923994636580374e-10\n",
            "determinant of A = -2.4923994636580374e-10\n",
            "Check matrix A =\n",
            " [[3.         3.         3.         3.         3.         3.        ]\n",
            " [3.         3.         1.36363636 1.07142857 0.88235294 0.75      ]\n",
            " [3.         1.36363636 0.88235294 0.65217391 0.51724138 0.42857143]\n",
            " [3.         1.07142857 0.65217391 0.46875    0.36585366 0.3       ]\n",
            " [3.         0.88235294 0.51724138 0.36585366 0.28301887 0.23076923]\n",
            " [3.         0.75       0.42857143 0.3        0.23076923 0.1875    ]]\n",
            "1 th leading minor of M = 3.0000000000000004\n",
            "2 th leading minor of M = 0.0\n",
            "3 th leading minor of M = -8.03305785123967\n",
            "4 th leading minor of M = -0.4935101061624751\n",
            "5 th leading minor of M = 0.0009030145201488282\n",
            "6 th leading minor of M = 2.3183841673928285e-08\n",
            "determinant of A = 2.3183841673928285e-08\n"
          ]
        },
        {
          "output_type": "execute_result",
          "data": {
            "text/plain": [
              "(True, False)"
            ]
          },
          "metadata": {},
          "execution_count": 15
        }
      ]
    },
    {
      "cell_type": "markdown",
      "metadata": {
        "id": "Qs8AJkWd0XXQ"
      },
      "source": [
        "### Test II.2\n",
        "\n",
        "Modify the `diy_lu` routine to implement column pivoting. Keep track of pivots, you can either construct a permutation matrix, or a swap array (your choice).\n",
        "\n",
        "(40% of the grade)\n",
        "\n",
        "Implement a function to reconstruct the original matrix from a decompositon. Test your routines on the matrices `a` and `a1`.\n",
        "\n",
        "(40% of the grade)"
      ]
    },
    {
      "cell_type": "code",
      "source": [
        "import numpy as np\n",
        "\n",
        "def diy_lu(a):\n",
        "    \"\"\"Construct the LU decomposition of the input matrix.\n",
        "\n",
        "    Modify the diy_lu routine to implement column pivoting.\n",
        "    Keep track of pivots, you can either construct a permutation matrix, or a swap array\n",
        "    \"\"\"\n",
        "    N = a.shape[0] #Tamano Matriz\n",
        "\n",
        "    u = a.astype(float).copy()  # Matriz U\n",
        "    L = np.eye(N, dtype=float) #Matriz L\n",
        "    P = np.eye(N, dtype=float) #Matriz P\n",
        "\n",
        "\n",
        "    for j in range(N):     #Para cada columna\n",
        "        max_row = j\n",
        "        max = u[j, j]\n",
        "        if (max==0.0):\n",
        "          for k in range(j+1, N):\n",
        "            if (abs(u[k, j]) > max):\n",
        "              max = abs(u[k, j])\n",
        "              max_row = k\n",
        "              break\n",
        "\n",
        "        if j != max_row:\n",
        "            u[[j, max_row], :] = u[[max_row, j], :]\n",
        "            P[[j, max_row], :] = P[[max_row, j], :]\n",
        "\n",
        "        for i in range(j+1, N):\n",
        "          pivote = -u[i, j] / u[j, j]\n",
        "          L[i, j] = -pivote\n",
        "          u[i, :] += pivote * u[j, :]\n",
        "\n",
        "    return P, L, u"
      ],
      "metadata": {
        "id": "cHSPL218OkaL"
      },
      "execution_count": null,
      "outputs": []
    },
    {
      "cell_type": "code",
      "source": [
        "P, L, U = diy_lu(A)\n",
        "print(\"L:\\n\", L, \"\\n\")\n",
        "print(\"U:\\n\", U, \"\\n\")\n",
        "print(\"A:\\n\", A, \"\\n\")\n",
        "print(\"P@L*U:\\n\", P@L@U, \"\\n\")\n",
        "print(\"P@L*U - A:\\n\", np.round((P@L@U)-A, 3), \"\\n\")\n",
        "\n",
        "P, L, U = diy_lu(A1)\n",
        "print(\"L:\\n\", L, \"\\n\")\n",
        "print(\"U:\\n\", U, \"\\n\")\n",
        "print(\"A1:\\n\", A1, \"\\n\")\n",
        "print(\"P@L*U:\\n\", P@L@U, \"\\n\")\n",
        "print(\"P@L*U - A1:\\n\", np.round((P@L@U) - A1, 3), \"\\n\")"
      ],
      "metadata": {
        "colab": {
          "base_uri": "https://localhost:8080/"
        },
        "id": "DXDbZ2UcOo-B",
        "outputId": "5ec5ffb2-7320-4020-c117-b5fae39403bf"
      },
      "execution_count": null,
      "outputs": [
        {
          "output_type": "stream",
          "name": "stdout",
          "text": [
            "L:\n",
            " [[1.         0.         0.         0.         0.         0.        ]\n",
            " [1.         1.         0.         0.         0.         0.        ]\n",
            " [1.         1.45454545 1.         0.         0.         0.        ]\n",
            " [1.         1.71428571 1.74223602 1.         0.         0.        ]\n",
            " [1.         1.88235294 2.27586207 2.03908376 1.         0.        ]\n",
            " [1.         2.         2.67142857 2.944      2.35448132 1.        ]] \n",
            "\n",
            "U:\n",
            " [[ 3.00000000e+00  3.00000000e+00  3.00000000e+00  3.00000000e+00\n",
            "   3.00000000e+00  3.00000000e+00]\n",
            " [ 0.00000000e+00 -1.12500000e+00 -1.63636364e+00 -1.92857143e+00\n",
            "  -2.11764706e+00 -2.25000000e+00]\n",
            " [ 0.00000000e+00  0.00000000e+00  2.62518230e-01  4.57368718e-01\n",
            "   5.97455283e-01  7.01298701e-01]\n",
            " [ 0.00000000e+00  2.22044605e-16  0.00000000e+00 -2.19718086e-02\n",
            "  -4.48023580e-02 -6.46850044e-02]\n",
            " [ 0.00000000e+00 -4.52767547e-16  0.00000000e+00  6.93889390e-18\n",
            "   8.07981372e-04  1.90237705e-03]\n",
            " [ 0.00000000e+00  4.12333415e-16  0.00000000e+00 -1.63374961e-17\n",
            "   0.00000000e+00 -1.58459123e-05]] \n",
            "\n",
            "A:\n",
            " [[3.         3.         3.         3.         3.         3.        ]\n",
            " [3.         1.875      1.36363636 1.07142857 0.88235294 0.75      ]\n",
            " [3.         1.36363636 0.88235294 0.65217391 0.51724138 0.42857143]\n",
            " [3.         1.07142857 0.65217391 0.46875    0.36585366 0.3       ]\n",
            " [3.         0.88235294 0.51724138 0.36585366 0.28301887 0.23076923]\n",
            " [3.         0.75       0.42857143 0.3        0.23076923 0.1875    ]] \n",
            "\n",
            "P@L*U:\n",
            " [[3.         3.         3.         3.         3.         3.        ]\n",
            " [3.         1.875      1.36363636 1.07142857 0.88235294 0.75      ]\n",
            " [3.         1.36363636 0.88235294 0.65217391 0.51724138 0.42857143]\n",
            " [3.         1.07142857 0.65217391 0.46875    0.36585366 0.3       ]\n",
            " [3.         0.88235294 0.51724138 0.36585366 0.28301887 0.23076923]\n",
            " [3.         0.75       0.42857143 0.3        0.23076923 0.1875    ]] \n",
            "\n",
            "P@L*U - A:\n",
            " [[ 0.  0.  0.  0.  0.  0.]\n",
            " [ 0.  0.  0.  0.  0.  0.]\n",
            " [ 0.  0. -0.  0.  0. -0.]\n",
            " [ 0.  0.  0. -0. -0.  0.]\n",
            " [ 0.  0.  0. -0. -0.  0.]\n",
            " [ 0.  0. -0. -0.  0.  0.]] \n",
            "\n",
            "L:\n",
            " [[ 1.          0.          0.          0.          0.          0.        ]\n",
            " [ 1.          1.          0.          0.          0.          0.        ]\n",
            " [ 1.         -0.          1.          0.          0.          0.        ]\n",
            " [ 1.          1.17857143 -0.09042748  1.          0.          0.        ]\n",
            " [ 1.          1.29411765 -0.15749911  1.63536615  1.          0.        ]\n",
            " [ 1.          1.375      -0.20798319  2.06967742  2.08230835  1.        ]] \n",
            "\n",
            "U:\n",
            " [[ 3.00000000e+00  3.00000000e+00  3.00000000e+00  3.00000000e+00\n",
            "   3.00000000e+00  3.00000000e+00]\n",
            " [ 0.00000000e+00 -1.63636364e+00 -2.11764706e+00 -2.34782609e+00\n",
            "  -2.48275862e+00 -2.57142857e+00]\n",
            " [ 0.00000000e+00  0.00000000e+00 -1.63636364e+00 -1.92857143e+00\n",
            "  -2.11764706e+00 -2.25000000e+00]\n",
            " [ 0.00000000e+00  2.22044605e-16  0.00000000e+00  6.14349000e-02\n",
            "   1.00468556e-01  1.27150425e-01]\n",
            " [ 0.00000000e+00 -3.63124230e-16  0.00000000e+00  0.00000000e+00\n",
            "  -1.82977919e-03 -3.81016447e-03]\n",
            " [ 0.00000000e+00  2.96575910e-16  0.00000000e+00  0.00000000e+00\n",
            "  -4.33680869e-19  2.56738304e-05]] \n",
            "\n",
            "A1:\n",
            " [[3.         3.         3.         3.         3.         3.        ]\n",
            " [3.         3.         1.36363636 1.07142857 0.88235294 0.75      ]\n",
            " [3.         1.36363636 0.88235294 0.65217391 0.51724138 0.42857143]\n",
            " [3.         1.07142857 0.65217391 0.46875    0.36585366 0.3       ]\n",
            " [3.         0.88235294 0.51724138 0.36585366 0.28301887 0.23076923]\n",
            " [3.         0.75       0.42857143 0.3        0.23076923 0.1875    ]] \n",
            "\n",
            "P@L*U:\n",
            " [[3.         3.         3.         3.         3.         3.        ]\n",
            " [3.         3.         1.36363636 1.07142857 0.88235294 0.75      ]\n",
            " [3.         1.36363636 0.88235294 0.65217391 0.51724138 0.42857143]\n",
            " [3.         1.07142857 0.65217391 0.46875    0.36585366 0.3       ]\n",
            " [3.         0.88235294 0.51724138 0.36585366 0.28301887 0.23076923]\n",
            " [3.         0.75       0.42857143 0.3        0.23076923 0.1875    ]] \n",
            "\n",
            "P@L*U - A1:\n",
            " [[ 0.  0.  0.  0.  0.  0.]\n",
            " [ 0.  0.  0.  0.  0.  0.]\n",
            " [ 0.  0.  0.  0. -0. -0.]\n",
            " [ 0.  0.  0. -0. -0. -0.]\n",
            " [ 0.  0.  0. -0.  0. -0.]\n",
            " [ 0. -0. -0. -0. -0.  0.]] \n",
            "\n"
          ]
        }
      ]
    },
    {
      "cell_type": "markdown",
      "metadata": {
        "id": "tUb6w3y60eyP"
      },
      "source": [
        "# 2. $LU$ factorization column pivoting and reconstruction\n",
        "When we premultply $A$ by elementary permutation matricex$P_j$( to find a good pivot) and then premultply by lower triangular elemetary matrices $\\Lambda_j$, $A$  it is transformed in an  upper triangular matrix $U$\n",
        "\n",
        "$$  \n",
        "(\\Lambda_{n-1} P_{n-1} \\ldots \\Lambda_2 P_2 \\Lambda_1 P_1)A  = U\n",
        "$$\n",
        "and\n",
        "$$  \n",
        "A  = (\\Lambda_{n-1} P_{n-1} \\ldots \\Lambda_2 P_2 \\Lambda_1 P_1)^{-1} U\n",
        "$$\n",
        "\n",
        "\n",
        "So the $LU$ column pivot factorization of $A$ is\n",
        "$$\n",
        "A = LU\n",
        "$$\n",
        "ith\n",
        "$$  \n",
        "U = (\\Lambda_{n-1} P_{n-1} \\ldots \\Lambda_2 P_2 \\Lambda_1 P_1) A\n",
        "$$\n",
        "$$\n",
        "\\begin{array}{ll}L  &=  (\\Lambda_{n-1} P_{n-1} \\ldots \\Lambda_2 P_2 \\Lambda_1 P_1)^{-1}\\\\\n",
        "&= P_1^{-1} \\Lambda_1^{-1} P_2^{-1} \\Lambda_2^{-1} \\ldots  P_{n-1}^{-1}\\\\\n",
        " &= P_1^{t} (-\\Lambda_1) P_2^{t} (-\\Lambda_2) \\ldots  P_{n-1}^{t} (-\\Lambda_{n-1})\n",
        "\\end{array}\n",
        "$$\n",
        "because the inverse a of a Lower Triangular Elemetary Matrix is minus the matrix $\\Lambda_i^{-1} = - \\Lambda_i$ and the inverse of a Permutation Matrix (in particular an elementary permutation matrix)  is its transpose [math.stackexchange](\n",
        "        https://math.stackexchange.com/questions/98549/the-transpose-of-a-permutation-matrix-is-its-inverse#:~:text=Taking%20the%20transpose%20of%20P,Pt%3DP%E2%88%921.)  $P_i^{-1}=P_i^{t}$.\n",
        "\n",
        "Note that\n",
        "$$\n",
        "L= P_1^{t} (-\\Lambda_1) P_2^{t} (-\\Lambda_2) \\ldots  P_{n-1}^{t} (-\\Lambda_{n-1})\n",
        "$$\n",
        "is not exactly a lower tiangular matrix but a row permutated lower tiangular matrix.\n",
        "\n",
        "\n",
        "\n"
      ]
    },
    {
      "cell_type": "markdown",
      "source": [
        "$$PA = LU$$"
      ],
      "metadata": {
        "id": "nV8IGs1Zrzu6"
      }
    },
    {
      "cell_type": "code",
      "metadata": {
        "id": "pCoZ5W-dOLPk"
      },
      "source": [
        "import numpy as np\n",
        "\n",
        "def diy_lu_column_pivot_reconstruct(A):\n",
        "    \"\"\"Construct the LU decomposition of the input matrix with column pivoting.\n",
        "\n",
        "    LU decomposition with pivot: work column by column, accumulate elementary triangular matrices L @ np.transpose(Pj).\n",
        "    \"\"\"\n",
        "    N = A.shape[0]\n",
        "    U = A.copy()\n",
        "    L = np.eye(N)\n",
        "    P = np.eye(N)\n",
        "\n",
        "    for k in range(N-1):\n",
        "        max_pivot_value = 0\n",
        "        pivot_row_index = -1\n",
        "        for row in range(k, len(U)):\n",
        "            if np.abs(U[row][k]) > max_pivot_value:\n",
        "                max_pivot_value = np.abs(U[row][k])\n",
        "                pivot_row_index = row\n",
        "\n",
        "        if max_pivot_value != 0:\n",
        "            U_copy = U.copy()\n",
        "            L_copy = L.copy()\n",
        "            P_temp = np.eye(N)\n",
        "            P_copy = P_temp.copy()\n",
        "\n",
        "            L[k, :k], L[pivot_row_index, :k] = L_copy[pivot_row_index, :k], L_copy[k, :k]\n",
        "            U[k], U[pivot_row_index] = U_copy[pivot_row_index], U_copy[k]\n",
        "            P_temp[k], P_temp[pivot_row_index] = P_copy[pivot_row_index], P_copy[k]\n",
        "\n",
        "            P = P @ P_temp\n",
        "\n",
        "        identity_temp = np.eye(N)\n",
        "        gamma = U[k+1:, k] / U[k, k]\n",
        "        identity_temp[k+1:, k] = -gamma\n",
        "        U = identity_temp @ U\n",
        "        identity_temp[k+1:, k] = gamma\n",
        "        L = L @ identity_temp\n",
        "\n",
        "    return P, L, U\n"
      ],
      "execution_count": null,
      "outputs": []
    },
    {
      "cell_type": "code",
      "metadata": {
        "colab": {
          "base_uri": "https://localhost:8080/"
        },
        "id": "fhVlk2aj1Ux5",
        "outputId": "57434ed3-0a7a-42eb-ec34-b2c32e1f03ed"
      },
      "source": [
        "A = np.array([[4,3,1], [5,7,0], [9,9,3]])\n",
        "\n",
        "P, L, U, = diy_lu_column_pivot_reconstruct(A)\n",
        "\n",
        "print(\"P\\n\",P, \"\\n\")\n",
        "print(\"L\\n\",L, \"\\n\")\n",
        "print(\"U\\n\",U, \"\\n\")\n",
        "print(\"A= P@L@U\\n\", P@L@U, \"\\n\")\n",
        "print(\"A\\n\",A, \"\\n\")\n",
        "\n",
        "# Quick sanity check: L times U must equal the original matrix, up to floating-point errors.\n",
        "print(\"L@u - A\\n\",np.round(P@L@U-A,3), \"\\n\")"
      ],
      "execution_count": null,
      "outputs": [
        {
          "output_type": "stream",
          "name": "stdout",
          "text": [
            "P\n",
            " [[0. 0. 1.]\n",
            " [0. 1. 0.]\n",
            " [1. 0. 0.]] \n",
            "\n",
            "L\n",
            " [[ 1.          0.          0.        ]\n",
            " [ 0.55555556  1.          0.        ]\n",
            " [ 0.44444444 -0.5         1.        ]] \n",
            "\n",
            "U\n",
            " [[ 9.          9.          3.        ]\n",
            " [ 0.          2.         -1.66666667]\n",
            " [ 0.          0.         -1.16666667]] \n",
            "\n",
            "A= P@L@U\n",
            " [[4. 3. 1.]\n",
            " [5. 7. 0.]\n",
            " [9. 9. 3.]] \n",
            "\n",
            "A\n",
            " [[4 3 1]\n",
            " [5 7 0]\n",
            " [9 9 3]] \n",
            "\n",
            "L@u - A\n",
            " [[0. 0. 0.]\n",
            " [0. 0. 0.]\n",
            " [0. 0. 0.]] \n",
            "\n"
          ]
        }
      ]
    },
    {
      "cell_type": "code",
      "source": [
        "from scipy import linalg\n",
        "\n",
        "A = np.array([[4,3,1], [5,7,0], [9,9,3]])\n",
        "\n",
        "P,L,U = linalg.lu(A)\n",
        "\n",
        "print(\"P\\n\",P, \"\\n\")\n",
        "print(\"L\\n\",L, \"\\n\")\n",
        "print(\"U\\n\",U, \"\\n\")\n",
        "print(\"A= P@L@U\\n\", P@L@U, \"\\n\")\n",
        "print(\"A\\n\",A, \"\\n\")\n",
        "\n",
        "# Quick sanity check: L times U must equal the original matrix, up to floating-point errors.\n",
        "print(\"L@u - A\\n\",np.round(P@L@U-A,3), \"\\n\")"
      ],
      "metadata": {
        "colab": {
          "base_uri": "https://localhost:8080/"
        },
        "id": "KY0N7EG_xAaP",
        "outputId": "6313b304-d12b-422a-95e7-89fe7f45ad8e"
      },
      "execution_count": null,
      "outputs": [
        {
          "output_type": "stream",
          "name": "stdout",
          "text": [
            "P\n",
            " [[0. 0. 1.]\n",
            " [0. 1. 0.]\n",
            " [1. 0. 0.]] \n",
            "\n",
            "L\n",
            " [[ 1.          0.          0.        ]\n",
            " [ 0.55555556  1.          0.        ]\n",
            " [ 0.44444444 -0.5         1.        ]] \n",
            "\n",
            "U\n",
            " [[ 9.          9.          3.        ]\n",
            " [ 0.          2.         -1.66666667]\n",
            " [ 0.          0.         -1.16666667]] \n",
            "\n",
            "A= P@L@U\n",
            " [[4. 3. 1.]\n",
            " [5. 7. 0.]\n",
            " [9. 9. 3.]] \n",
            "\n",
            "A\n",
            " [[4 3 1]\n",
            " [5 7 0]\n",
            " [9 9 3]] \n",
            "\n",
            "L@u - A\n",
            " [[0. 0. 0.]\n",
            " [0. 0. 0.]\n",
            " [0. 0. 0.]] \n",
            "\n"
          ]
        }
      ]
    },
    {
      "cell_type": "code",
      "metadata": {
        "colab": {
          "base_uri": "https://localhost:8080/"
        },
        "id": "XIpfRzl21IDH",
        "outputId": "5c278109-9602-4511-d055-9ee199aa5682"
      },
      "source": [
        "N = 6\n",
        "A = np.zeros((N, N), dtype=float)\n",
        "for i in range(N):\n",
        "    for j in range(N):\n",
        "        A[i, j] = 3. / (0.6*i*j + 1)\n",
        "\n",
        "P, L, U, = diy_lu_column_pivot_reconstruct(A)\n",
        "\n",
        "print(\"P\\n\",P, \"\\n\")\n",
        "print(\"L\\n\",L, \"\\n\")\n",
        "print(\"U\\n\",U, \"\\n\")\n",
        "print(\"A= P@L@U\\n\", P@L@U, \"\\n\")\n",
        "print(\"A\\n\",A, \"\\n\")\n",
        "\n",
        "# Quick sanity check: L times U must equal the original matrix, up to floating-point errors.\n",
        "print(\"L@u - A\\n\",np.round(P@L@U-A,3), \"\\n\")\n",
        "\n",
        "\n"
      ],
      "execution_count": null,
      "outputs": [
        {
          "output_type": "stream",
          "name": "stdout",
          "text": [
            "P\n",
            " [[1. 0. 0. 0. 0. 0.]\n",
            " [0. 0. 1. 0. 0. 0.]\n",
            " [0. 0. 0. 1. 0. 0.]\n",
            " [0. 0. 0. 0. 1. 0.]\n",
            " [0. 0. 0. 0. 0. 1.]\n",
            " [0. 1. 0. 0. 0. 0.]] \n",
            "\n",
            "L\n",
            " [[1.         0.         0.         0.         0.         0.        ]\n",
            " [1.         1.         0.         0.         0.         0.        ]\n",
            " [1.         0.5        1.         0.         0.         0.        ]\n",
            " [1.         0.72727273 0.70588235 1.         0.         0.        ]\n",
            " [1.         0.85714286 0.40993789 0.83482143 1.         0.        ]\n",
            " [1.         0.94117647 0.17849899 0.4255677  0.78870221 1.        ]] \n",
            "\n",
            "U\n",
            " [[ 3.00000000e+00  3.00000000e+00  3.00000000e+00  3.00000000e+00\n",
            "   3.00000000e+00  3.00000000e+00]\n",
            " [ 0.00000000e+00 -2.25000000e+00 -2.57142857e+00 -2.70000000e+00\n",
            "  -2.76923077e+00 -2.81250000e+00]\n",
            " [ 0.00000000e+00  0.00000000e+00 -3.50649351e-01 -5.78571429e-01\n",
            "  -7.33031674e-01 -8.43750000e-01]\n",
            " [ 0.00000000e+00  0.00000000e+00  2.77555756e-17  2.42136380e-02\n",
            "   4.86615163e-02  6.96142093e-02]\n",
            " [ 0.00000000e+00  2.22044605e-16 -2.31709493e-17  0.00000000e+00\n",
            "  -6.46187856e-04 -1.51605479e-03]\n",
            " [ 0.00000000e+00 -1.75127070e-16  6.46310228e-18  0.00000000e+00\n",
            "   0.00000000e+00  6.73010748e-06]] \n",
            "\n",
            "A= P@L@U\n",
            " [[3.         3.         3.         3.         3.         3.        ]\n",
            " [3.         1.875      1.36363636 1.07142857 0.88235294 0.75      ]\n",
            " [3.         1.36363636 0.88235294 0.65217391 0.51724138 0.42857143]\n",
            " [3.         1.07142857 0.65217391 0.46875    0.36585366 0.3       ]\n",
            " [3.         0.88235294 0.51724138 0.36585366 0.28301887 0.23076923]\n",
            " [3.         0.75       0.42857143 0.3        0.23076923 0.1875    ]] \n",
            "\n",
            "A\n",
            " [[3.         3.         3.         3.         3.         3.        ]\n",
            " [3.         1.875      1.36363636 1.07142857 0.88235294 0.75      ]\n",
            " [3.         1.36363636 0.88235294 0.65217391 0.51724138 0.42857143]\n",
            " [3.         1.07142857 0.65217391 0.46875    0.36585366 0.3       ]\n",
            " [3.         0.88235294 0.51724138 0.36585366 0.28301887 0.23076923]\n",
            " [3.         0.75       0.42857143 0.3        0.23076923 0.1875    ]] \n",
            "\n",
            "L@u - A\n",
            " [[ 0.  0.  0.  0.  0.  0.]\n",
            " [ 0.  0.  0.  0.  0.  0.]\n",
            " [ 0.  0.  0.  0.  0. -0.]\n",
            " [ 0.  0.  0. -0. -0. -0.]\n",
            " [ 0.  0.  0.  0.  0.  0.]\n",
            " [ 0.  0. -0. -0.  0.  0.]] \n",
            "\n"
          ]
        }
      ]
    },
    {
      "cell_type": "code",
      "source": [
        "from scipy import linalg\n",
        "\n",
        "P,L,U = linalg.lu(A)\n",
        "\n",
        "print(\"P\\n\",P, \"\\n\")\n",
        "print(\"L\\n\",L, \"\\n\")\n",
        "print(\"U\\n\",U, \"\\n\")\n",
        "print(\"A= P@L@U\\n\", P@L@U, \"\\n\")\n",
        "print(\"A\\n\",A, \"\\n\")\n",
        "\n",
        "# Quick sanity check: L times U must equal the original matrix, up to floating-point errors.\n",
        "print(\"L@u - A\\n\",np.round(P@L@U-A,3), \"\\n\")"
      ],
      "metadata": {
        "colab": {
          "base_uri": "https://localhost:8080/"
        },
        "id": "acLrGb5y4aZl",
        "outputId": "442e6c17-6691-4291-b81c-d17c0af59f31"
      },
      "execution_count": null,
      "outputs": [
        {
          "output_type": "stream",
          "name": "stdout",
          "text": [
            "P\n",
            " [[1. 0. 0. 0. 0. 0.]\n",
            " [0. 0. 1. 0. 0. 0.]\n",
            " [0. 0. 0. 1. 0. 0.]\n",
            " [0. 0. 0. 0. 1. 0.]\n",
            " [0. 0. 0. 0. 0. 1.]\n",
            " [0. 1. 0. 0. 0. 0.]] \n",
            "\n",
            "L\n",
            " [[1.         0.         0.         0.         0.         0.        ]\n",
            " [1.         1.         0.         0.         0.         0.        ]\n",
            " [1.         0.5        1.         0.         0.         0.        ]\n",
            " [1.         0.72727273 0.70588235 1.         0.         0.        ]\n",
            " [1.         0.85714286 0.40993789 0.83482143 1.         0.        ]\n",
            " [1.         0.94117647 0.17849899 0.4255677  0.78870221 1.        ]] \n",
            "\n",
            "U\n",
            " [[ 3.00000000e+00  3.00000000e+00  3.00000000e+00  3.00000000e+00\n",
            "   3.00000000e+00  3.00000000e+00]\n",
            " [ 0.00000000e+00 -2.25000000e+00 -2.57142857e+00 -2.70000000e+00\n",
            "  -2.76923077e+00 -2.81250000e+00]\n",
            " [ 0.00000000e+00  0.00000000e+00 -3.50649351e-01 -5.78571429e-01\n",
            "  -7.33031674e-01 -8.43750000e-01]\n",
            " [ 0.00000000e+00  0.00000000e+00  0.00000000e+00  2.42136380e-02\n",
            "   4.86615163e-02  6.96142093e-02]\n",
            " [ 0.00000000e+00  0.00000000e+00  0.00000000e+00  0.00000000e+00\n",
            "  -6.46187856e-04 -1.51605479e-03]\n",
            " [ 0.00000000e+00  0.00000000e+00  0.00000000e+00  0.00000000e+00\n",
            "   0.00000000e+00  6.73010748e-06]] \n",
            "\n",
            "A= P@L@U\n",
            " [[3.         3.         3.         3.         3.         3.        ]\n",
            " [3.         1.875      1.36363636 1.07142857 0.88235294 0.75      ]\n",
            " [3.         1.36363636 0.88235294 0.65217391 0.51724138 0.42857143]\n",
            " [3.         1.07142857 0.65217391 0.46875    0.36585366 0.3       ]\n",
            " [3.         0.88235294 0.51724138 0.36585366 0.28301887 0.23076923]\n",
            " [3.         0.75       0.42857143 0.3        0.23076923 0.1875    ]] \n",
            "\n",
            "A\n",
            " [[3.         3.         3.         3.         3.         3.        ]\n",
            " [3.         1.875      1.36363636 1.07142857 0.88235294 0.75      ]\n",
            " [3.         1.36363636 0.88235294 0.65217391 0.51724138 0.42857143]\n",
            " [3.         1.07142857 0.65217391 0.46875    0.36585366 0.3       ]\n",
            " [3.         0.88235294 0.51724138 0.36585366 0.28301887 0.23076923]\n",
            " [3.         0.75       0.42857143 0.3        0.23076923 0.1875    ]] \n",
            "\n",
            "L@u - A\n",
            " [[ 0.  0.  0.  0.  0.  0.]\n",
            " [ 0.  0.  0.  0.  0.  0.]\n",
            " [ 0.  0.  0.  0.  0. -0.]\n",
            " [ 0.  0.  0.  0.  0. -0.]\n",
            " [ 0.  0.  0.  0.  0. -0.]\n",
            " [ 0.  0. -0. -0.  0.  0.]] \n",
            "\n"
          ]
        }
      ]
    },
    {
      "cell_type": "code",
      "metadata": {
        "colab": {
          "base_uri": "https://localhost:8080/"
        },
        "id": "Ea5i2TSF1RPx",
        "outputId": "0c1c3451-8b44-410e-d52f-a60192e00423"
      },
      "source": [
        "A[1, 1] = 3\n",
        "\n",
        "P, L, U, = diy_lu_column_pivot_reconstruct(A1)\n",
        "\n",
        "print(\"P\\n\",P, \"\\n\")\n",
        "print(\"L\\n\",L, \"\\n\")\n",
        "print(\"U\\n\",U, \"\\n\")\n",
        "print(\"A= P@L@U\\n\", P@L@U, \"\\n\")\n",
        "print(\"A\\n\",A, \"\\n\")\n",
        "\n",
        "# Quick sanity check: L times U must equal the original matrix, up to floating-point errors.\n",
        "print(\"L@u - A\\n\",np.round(P@L@U-A,3), \"\\n\")"
      ],
      "execution_count": null,
      "outputs": [
        {
          "output_type": "stream",
          "name": "stdout",
          "text": [
            "P\n",
            " [[1. 0. 0. 0. 0. 0.]\n",
            " [0. 0. 1. 0. 0. 0.]\n",
            " [0. 0. 0. 1. 0. 0.]\n",
            " [0. 0. 0. 0. 1. 0.]\n",
            " [0. 0. 0. 0. 0. 1.]\n",
            " [0. 1. 0. 0. 0. 0.]] \n",
            "\n",
            "L\n",
            " [[1.         0.         0.         0.         0.         0.        ]\n",
            " [1.         1.         0.         0.         0.         0.        ]\n",
            " [1.         0.         1.         0.         0.         0.        ]\n",
            " [1.         0.72727273 0.1512605  1.         0.         0.        ]\n",
            " [1.         0.85714286 0.08784383 0.51421669 1.         0.        ]\n",
            " [1.         0.94117647 0.03824978 0.2076544  0.64143198 1.        ]] \n",
            "\n",
            "U\n",
            " [[ 3.00000000e+00  3.00000000e+00  3.00000000e+00  3.00000000e+00\n",
            "   3.00000000e+00  3.00000000e+00]\n",
            " [ 0.00000000e+00 -2.25000000e+00 -2.57142857e+00 -2.70000000e+00\n",
            "  -2.76923077e+00 -2.81250000e+00]\n",
            " [ 0.00000000e+00  0.00000000e+00 -1.63636364e+00 -1.92857143e+00\n",
            "  -2.11764706e+00 -2.25000000e+00]\n",
            " [ 0.00000000e+00  0.00000000e+00  2.77555756e-17 -9.24730366e-02\n",
            "  -1.48456245e-01 -1.85637892e-01]\n",
            " [ 0.00000000e+00  2.22044605e-16 -1.42723802e-17  0.00000000e+00\n",
            "   1.84094605e-03  3.82101258e-03]\n",
            " [ 0.00000000e+00 -1.42426510e-16  3.39119367e-18  0.00000000e+00\n",
            "   0.00000000e+00 -1.23295047e-05]] \n",
            "\n",
            "A= P@L@U\n",
            " [[3.         3.         3.         3.         3.         3.        ]\n",
            " [3.         3.         1.36363636 1.07142857 0.88235294 0.75      ]\n",
            " [3.         1.36363636 0.88235294 0.65217391 0.51724138 0.42857143]\n",
            " [3.         1.07142857 0.65217391 0.46875    0.36585366 0.3       ]\n",
            " [3.         0.88235294 0.51724138 0.36585366 0.28301887 0.23076923]\n",
            " [3.         0.75       0.42857143 0.3        0.23076923 0.1875    ]] \n",
            "\n",
            "A\n",
            " [[3.         3.         3.         3.         3.         3.        ]\n",
            " [3.         3.         1.36363636 1.07142857 0.88235294 0.75      ]\n",
            " [3.         1.36363636 0.88235294 0.65217391 0.51724138 0.42857143]\n",
            " [3.         1.07142857 0.65217391 0.46875    0.36585366 0.3       ]\n",
            " [3.         0.88235294 0.51724138 0.36585366 0.28301887 0.23076923]\n",
            " [3.         0.75       0.42857143 0.3        0.23076923 0.1875    ]] \n",
            "\n",
            "L@u - A\n",
            " [[ 0.  0.  0.  0.  0.  0.]\n",
            " [ 0.  0.  0.  0.  0.  0.]\n",
            " [ 0.  0.  0.  0.  0. -0.]\n",
            " [ 0.  0.  0. -0. -0. -0.]\n",
            " [ 0.  0.  0.  0.  0. -0.]\n",
            " [ 0.  0. -0. -0.  0.  0.]] \n",
            "\n"
          ]
        }
      ]
    },
    {
      "cell_type": "code",
      "source": [
        "from scipy import linalg\n",
        "\n",
        "P,L,U = linalg.lu(A)\n",
        "\n",
        "print(\"P\\n\",P, \"\\n\")\n",
        "print(\"L\\n\",L, \"\\n\")\n",
        "print(\"U\\n\",U, \"\\n\")\n",
        "print(\"A= P@L@U\\n\", P@L@U, \"\\n\")\n",
        "print(\"A\\n\",A, \"\\n\")\n",
        "\n",
        "# Quick sanity check: L times U must equal the original matrix, up to floating-point errors.\n",
        "print(\"L@u - A\\n\",np.round(P@L@U-A,3), \"\\n\")"
      ],
      "metadata": {
        "colab": {
          "base_uri": "https://localhost:8080/"
        },
        "id": "6odsHUNwqGzD",
        "outputId": "efccc3a2-c7dd-4e84-9f8d-e23842cb9be0"
      },
      "execution_count": null,
      "outputs": [
        {
          "output_type": "stream",
          "name": "stdout",
          "text": [
            "P\n",
            " [[1. 0. 0. 0. 0. 0.]\n",
            " [0. 0. 1. 0. 0. 0.]\n",
            " [0. 0. 0. 1. 0. 0.]\n",
            " [0. 0. 0. 0. 1. 0.]\n",
            " [0. 0. 0. 0. 0. 1.]\n",
            " [0. 1. 0. 0. 0. 0.]] \n",
            "\n",
            "L\n",
            " [[ 1.          0.          0.          0.          0.          0.        ]\n",
            " [ 1.          1.          0.          0.          0.          0.        ]\n",
            " [ 1.         -0.          1.          0.          0.          0.        ]\n",
            " [ 1.          0.72727273  0.1512605   1.          0.          0.        ]\n",
            " [ 1.          0.85714286  0.08784383  0.51421669  1.          0.        ]\n",
            " [ 1.          0.94117647  0.03824978  0.2076544   0.64143198  1.        ]] \n",
            "\n",
            "U\n",
            " [[ 3.00000000e+00  3.00000000e+00  3.00000000e+00  3.00000000e+00\n",
            "   3.00000000e+00  3.00000000e+00]\n",
            " [ 0.00000000e+00 -2.25000000e+00 -2.57142857e+00 -2.70000000e+00\n",
            "  -2.76923077e+00 -2.81250000e+00]\n",
            " [ 0.00000000e+00  0.00000000e+00 -1.63636364e+00 -1.92857143e+00\n",
            "  -2.11764706e+00 -2.25000000e+00]\n",
            " [ 0.00000000e+00  0.00000000e+00  0.00000000e+00 -9.24730366e-02\n",
            "  -1.48456245e-01 -1.85637892e-01]\n",
            " [ 0.00000000e+00  0.00000000e+00  0.00000000e+00  0.00000000e+00\n",
            "   1.84094605e-03  3.82101258e-03]\n",
            " [ 0.00000000e+00  0.00000000e+00  0.00000000e+00  0.00000000e+00\n",
            "   0.00000000e+00 -1.23295047e-05]] \n",
            "\n",
            "A= P@L@U\n",
            " [[3.         3.         3.         3.         3.         3.        ]\n",
            " [3.         3.         1.36363636 1.07142857 0.88235294 0.75      ]\n",
            " [3.         1.36363636 0.88235294 0.65217391 0.51724138 0.42857143]\n",
            " [3.         1.07142857 0.65217391 0.46875    0.36585366 0.3       ]\n",
            " [3.         0.88235294 0.51724138 0.36585366 0.28301887 0.23076923]\n",
            " [3.         0.75       0.42857143 0.3        0.23076923 0.1875    ]] \n",
            "\n",
            "A\n",
            " [[3.         3.         3.         3.         3.         3.        ]\n",
            " [3.         3.         1.36363636 1.07142857 0.88235294 0.75      ]\n",
            " [3.         1.36363636 0.88235294 0.65217391 0.51724138 0.42857143]\n",
            " [3.         1.07142857 0.65217391 0.46875    0.36585366 0.3       ]\n",
            " [3.         0.88235294 0.51724138 0.36585366 0.28301887 0.23076923]\n",
            " [3.         0.75       0.42857143 0.3        0.23076923 0.1875    ]] \n",
            "\n",
            "L@u - A\n",
            " [[ 0.  0.  0.  0.  0.  0.]\n",
            " [ 0.  0.  0.  0.  0.  0.]\n",
            " [ 0.  0.  0.  0.  0. -0.]\n",
            " [ 0.  0.  0.  0.  0.  0.]\n",
            " [ 0.  0.  0.  0.  0. -0.]\n",
            " [ 0.  0. -0. -0.  0.  0.]] \n",
            "\n"
          ]
        }
      ]
    }
  ]
}