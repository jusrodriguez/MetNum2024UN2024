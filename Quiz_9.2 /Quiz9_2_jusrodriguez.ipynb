{
  "nbformat": 4,
  "nbformat_minor": 0,
  "metadata": {
    "colab": {
      "provenance": [],
      "include_colab_link": true
    },
    "kernelspec": {
      "name": "python3",
      "display_name": "Python 3"
    },
    "language_info": {
      "name": "python"
    }
  },
  "cells": [
    {
      "cell_type": "markdown",
      "metadata": {
        "id": "view-in-github",
        "colab_type": "text"
      },
      "source": [
        "<a href=\"https://colab.research.google.com/github/jusrodriguez/MetNum2024UN2024/blob/main/Quiz_9.2%20/Quiz9_2_jusrodriguez.ipynb\" target=\"_parent\"><img src=\"https://colab.research.google.com/assets/colab-badge.svg\" alt=\"Open In Colab\"/></a>"
      ]
    },
    {
      "cell_type": "markdown",
      "source": [
        "### Cramer by hand\n",
        "\n",
        "$$A = \\left[\n",
        "  \\begin{array}{cc}\n",
        "1 & 2\\\\\n",
        "3 & 4\n",
        "\\end{array}\n",
        "\\right],  \n",
        "b= \\left[\n",
        "\\begin{array}{c}\n",
        "5\\\\\n",
        "6\n",
        "\\end{array}\n",
        "\\right]\n",
        "$$\n",
        "$$\n",
        "Ax =B\n",
        "$$\n",
        "$$  \n",
        "\\left[\n",
        "  \\begin{array}{cc}\n",
        "1 & 2\\\\\n",
        "3 & 4\n",
        "\\end{array}\n",
        "\\right]\n",
        "\\left[\n",
        "\\begin{array}{c}\n",
        "x_1\\\\\n",
        "x_2\n",
        "\\end{array}\n",
        "\\right]  \n",
        "=\n",
        "\\left[\n",
        "\\begin{array}{c}\n",
        "5\\\\\n",
        "6\n",
        "\\end{array}\n",
        "\\right]\n",
        "$$\n",
        "\n",
        "$$Det\\ A =  (1 * 4) - (3 * 2)  = 4 - 6 = -2$$\n",
        "\n",
        "$$A_1 = \\left[\n",
        "  \\begin{array}{cc}\n",
        "5 & 2\\\\\n",
        "6 & 4\n",
        "\\end{array}\n",
        "\\right]\n",
        "$$\n",
        "\n",
        "$$Det\\ A_1 = (5 * 4) - (6 * 2) = 20 - 12 =  8$$\n",
        "\n",
        "$$x_1 =  \\frac{Det\\ A_1}{Det\\ A}= \\frac{8}{-2} =  -4$$\n",
        "\n",
        "$$A_2 = \\left[\n",
        "  \\begin{array}{cc}\n",
        "1 & 5\\\\\n",
        "3 & 6\n",
        "\\end{array}\n",
        "\\right]\n",
        "$$\n",
        "\n",
        "$$Det\\ A_2 = (1*6) - (3*5)  = 6 -15 = -9$$\n",
        "\n",
        "$$x_2 = \\frac{Det\\ A_2}{Det\\ A}= \\frac{-9}{-2} =  \\frac{9}{2}$$"
      ],
      "metadata": {
        "id": "SUmNm2PmfHU7"
      }
    },
    {
      "cell_type": "markdown",
      "source": [
        "- ***Adding a single digit to any number requires about 7.30 bits of processing.*** - World Mental Calculation: News and Resources for Competitive and Advanced Mental Calculation https://worldmentalcalculation.com/2019/06/30/fastest-possible-processing-speed-of-the-human-brain/\n",
        "\n",
        "- ***The human brain can process 11 million bits of information every second. But our conscious minds can handle only 40 to 50 bits of information a second.*** - Understanding Unconscious Bias https://www.npr.org/2020/07/14/891140598/understanding-unconscious-bias\n",
        "\n",
        "- ***A new way to analyze human reaction times shows that the brain processes data no faster than 60 bits per second.***- New Measure of Human Brain Processing Speed https://www.technologyreview.com/2009/08/25/210267/new-measure-of-human-brain-processing-speed/\n",
        "\n",
        "\n"
      ],
      "metadata": {
        "id": "3rH8z64pk2XV"
      }
    },
    {
      "cell_type": "markdown",
      "source": [
        "# Number of operations to compute a determinant by cofactor expasion\n",
        "- Cofactor expansion https://people.math.carleton.ca/~kcheung/math/notes/MATH1107/07/07_cofactor_expansion.html\n",
        "## Definition of A(i∣j)\n",
        "Let $A$ be an $n\\times n$ matrix. Let $i,j \\in \\{1,…,n\\}$. We define $A(i∣j)$  to be the matrix obtained from $A$ by removing row $i$ and column $j$ from $A$.\n",
        "\n",
        "## Cofactor formula\n",
        "One way of computing the determinant of an $n\\times n$  matrix\n",
        "\n",
        "$$A = \\left[\n",
        "  \\begin{array}{cccc}\n",
        "a_{11} & a_{12} & \\cdots & a_{1n}\\\\\n",
        "a_{21} & a_{22} & \\cdots & a_{2n}\\\\\n",
        "\\vdots  & \\vdots & \\ddots & \\vdots\\\\\n",
        "a_{n1} & a_{n2} & \\cdots & a_{nn}\\\\\n",
        "\\end{array}\n",
        "\\right]\n",
        "$$\n",
        "is to use the following formula called the cofactor formula.\n",
        "\n",
        "Pick either any $i\\ \\in \\{1,…,n\\}$ (fixed row) or $i\\ \\in \\{1,…,n\\}$ (fixed column). Then\n",
        "\n",
        "$$\\det(A)  = \\sum_{j=1}^n (-1)^{i+j}a_{ij} \\det(A(i∣j)) $$\n",
        "\n",
        "\n",
        "$C_{i,j}= (-1)^{i+j}a_{ij} \\det(A(i∣j))$ is called a cofactor of $A$.\n",
        "\n",
        "$$\\det(A)  = \\sum_{j=1}^n C_{i,j} $$\n",
        "\n"
      ],
      "metadata": {
        "id": "CgrSIpDOnaGQ"
      }
    },
    {
      "cell_type": "code",
      "source": [
        "# Code from https://stackoverflow.com/questions/16510111/computing-determinant-of-a-matrix-nxn-recursively\n",
        "\n",
        "import numpy as np\n",
        "\n",
        "def smaller_matrix(original_matrix,row, column):\n",
        "    for ii in range(len(original_matrix)):\n",
        "        new_matrix=np.delete(original_matrix,ii,0)\n",
        "        new_matrix=np.delete(new_matrix,column,1)\n",
        "        return new_matrix\n",
        "\n",
        "\n",
        "def determinant(matrix):\n",
        "    \"\"\"Returns a determinant of a matrix by recursive method.\"\"\"\n",
        "    (r,c) = matrix.shape\n",
        "    if r != c:\n",
        "        print(\"Error!Not a square matrix!\")\n",
        "        return None\n",
        "    elif r==2:\n",
        "        simple_determinant = matrix[0][0]*matrix[1][1]-matrix[0][1]*matrix[1][0]\n",
        "        return simple_determinant\n",
        "    else:\n",
        "        answer=0\n",
        "        for j in range(r):\n",
        "            cofactor = (-1)**(0+j) * matrix[0][j] * determinant(smaller_matrix(matrix, 0, j))\n",
        "            answer+= cofactor\n",
        "        return answer"
      ],
      "metadata": {
        "id": "J-joKRBhC7eF"
      },
      "execution_count": null,
      "outputs": []
    },
    {
      "cell_type": "code",
      "source": [
        "#test the function\n",
        "#Only works for numpy.array input\n",
        "np.random.seed(1)"
      ],
      "metadata": {
        "id": "Il2pcRD4DptG"
      },
      "execution_count": null,
      "outputs": []
    },
    {
      "cell_type": "code",
      "source": [
        "n = 2\n",
        "matrix=np.random.randint(-5,5,size=(n,n))\n",
        "matrix"
      ],
      "metadata": {
        "colab": {
          "base_uri": "https://localhost:8080/"
        },
        "id": "AgKC1-aiFRW2",
        "outputId": "79f92fad-d00f-4d25-ddef-5948d48f5a36"
      },
      "execution_count": null,
      "outputs": [
        {
          "output_type": "execute_result",
          "data": {
            "text/plain": [
              "array([[0, 3],\n",
              "       [4, 0]])"
            ]
          },
          "metadata": {},
          "execution_count": 6
        }
      ]
    },
    {
      "cell_type": "code",
      "source": [
        "determinant(matrix)"
      ],
      "metadata": {
        "colab": {
          "base_uri": "https://localhost:8080/"
        },
        "outputId": "629db575-7ce5-46ce-e5a0-dd796b8983c8",
        "id": "oI0rUp-SDptH"
      },
      "execution_count": null,
      "outputs": [
        {
          "output_type": "execute_result",
          "data": {
            "text/plain": [
              "-12"
            ]
          },
          "metadata": {},
          "execution_count": 7
        }
      ]
    },
    {
      "cell_type": "code",
      "source": [
        "np.linalg.det(matrix)"
      ],
      "metadata": {
        "colab": {
          "base_uri": "https://localhost:8080/"
        },
        "id": "iqZv7iK-KKXH",
        "outputId": "f67e1495-4df5-49b1-d795-d129569c6eef"
      },
      "execution_count": null,
      "outputs": [
        {
          "output_type": "execute_result",
          "data": {
            "text/plain": [
              "-12.0"
            ]
          },
          "metadata": {},
          "execution_count": 8
        }
      ]
    },
    {
      "cell_type": "code",
      "source": [
        "round(np.linalg.det(matrix))"
      ],
      "metadata": {
        "colab": {
          "base_uri": "https://localhost:8080/"
        },
        "id": "sY21rHM-KdlO",
        "outputId": "2b129051-acb8-4df6-ffea-d65071f9f265"
      },
      "execution_count": null,
      "outputs": [
        {
          "output_type": "execute_result",
          "data": {
            "text/plain": [
              "-12"
            ]
          },
          "metadata": {},
          "execution_count": 9
        }
      ]
    },
    {
      "cell_type": "code",
      "source": [
        "n = 5\n",
        "matrix=np.diag(np.random.randint(-10,10,size=(n)))\n",
        "matrix"
      ],
      "metadata": {
        "colab": {
          "base_uri": "https://localhost:8080/"
        },
        "id": "-QXGZWFIDs5k",
        "outputId": "bc99a982-c2f2-43d9-a349-c4dab641934f"
      },
      "execution_count": null,
      "outputs": [
        {
          "output_type": "execute_result",
          "data": {
            "text/plain": [
              "array([[  5,   0,   0,   0,   0],\n",
              "       [  0, -10,   0,   0,   0],\n",
              "       [  0,   0,   6,   0,   0],\n",
              "       [  0,   0,   0,  -9,   0],\n",
              "       [  0,   0,   0,   0,   2]])"
            ]
          },
          "metadata": {},
          "execution_count": 10
        }
      ]
    },
    {
      "cell_type": "code",
      "source": [
        "determinant(matrix)"
      ],
      "metadata": {
        "colab": {
          "base_uri": "https://localhost:8080/"
        },
        "id": "VP6hRwhwD-3W",
        "outputId": "e0df063d-12ef-4648-9388-dd01b730cab9"
      },
      "execution_count": null,
      "outputs": [
        {
          "output_type": "execute_result",
          "data": {
            "text/plain": [
              "5400"
            ]
          },
          "metadata": {},
          "execution_count": 11
        }
      ]
    },
    {
      "cell_type": "code",
      "source": [
        "np.linalg.det(matrix)"
      ],
      "metadata": {
        "colab": {
          "base_uri": "https://localhost:8080/"
        },
        "id": "8NV7Zvp-KtRz",
        "outputId": "122b07bf-e693-499e-b5c3-8cc333eeaae5"
      },
      "execution_count": null,
      "outputs": [
        {
          "output_type": "execute_result",
          "data": {
            "text/plain": [
              "5400.000000000003"
            ]
          },
          "metadata": {},
          "execution_count": 12
        }
      ]
    },
    {
      "cell_type": "code",
      "source": [
        "round(np.linalg.det(matrix))"
      ],
      "metadata": {
        "colab": {
          "base_uri": "https://localhost:8080/"
        },
        "id": "HXKK3weLKt5T",
        "outputId": "4628f794-5bce-458f-a67c-10f8647d0fd2"
      },
      "execution_count": null,
      "outputs": [
        {
          "output_type": "execute_result",
          "data": {
            "text/plain": [
              "5400"
            ]
          },
          "metadata": {},
          "execution_count": 13
        }
      ]
    },
    {
      "cell_type": "code",
      "source": [
        "# Modified from the previous code\n",
        "import numpy as np\n",
        "\n",
        "# A a squared numpy matrix\n",
        "def det(A):\n",
        "    \"\"\"Returns a determinant of a matrix by recursive method.\"\"\"\n",
        "    (r,c) = A.shape\n",
        "    if r != c:\n",
        "        print(\"Error!Not a square matrix!\")\n",
        "        return None\n",
        "    elif r==1:\n",
        "          # the code with  r==2 is more efficient but we use this\n",
        "         # because the number of operations is easier to compute\n",
        "        return A[0][0]\n",
        "    else:\n",
        "        answer=0\n",
        "        for j in range(r):\n",
        "            s = 1 if (0+j)%2 == 0 else -1\n",
        "            Aij = np.delete(A,0,0)\n",
        "            Aij = np.delete(Aij,j,1)\n",
        "            cofactor = (s) * A[0][j] * det(Aij)\n",
        "            answer+= cofactor\n",
        "        return answer"
      ],
      "metadata": {
        "id": "B258g8lnBgnG"
      },
      "execution_count": null,
      "outputs": []
    },
    {
      "cell_type": "code",
      "source": [
        "#test the function\n",
        "#Only works for numpy.array input\n",
        "np.random.seed(1)"
      ],
      "metadata": {
        "id": "ZR2mjlqiGdM6"
      },
      "execution_count": null,
      "outputs": []
    },
    {
      "cell_type": "code",
      "source": [
        "n = 2\n",
        "A=np.random.randint(-5,5,size=(n,n))\n",
        "A"
      ],
      "metadata": {
        "colab": {
          "base_uri": "https://localhost:8080/"
        },
        "outputId": "b6b541eb-e6a2-49a9-d2c2-79bb2cb9e7f1",
        "id": "jPpBCFaoGlak"
      },
      "execution_count": null,
      "outputs": [
        {
          "output_type": "execute_result",
          "data": {
            "text/plain": [
              "array([[0, 3],\n",
              "       [4, 0]])"
            ]
          },
          "metadata": {},
          "execution_count": 16
        }
      ]
    },
    {
      "cell_type": "code",
      "source": [
        "det(A)"
      ],
      "metadata": {
        "colab": {
          "base_uri": "https://localhost:8080/"
        },
        "outputId": "e9334112-7bfd-45de-9f57-06e45c561923",
        "id": "WKbuirZeGlak"
      },
      "execution_count": null,
      "outputs": [
        {
          "output_type": "execute_result",
          "data": {
            "text/plain": [
              "-12"
            ]
          },
          "metadata": {},
          "execution_count": 17
        }
      ]
    },
    {
      "cell_type": "code",
      "source": [
        "determinant(A)"
      ],
      "metadata": {
        "colab": {
          "base_uri": "https://localhost:8080/"
        },
        "id": "_B5xBFirTvQm",
        "outputId": "1066272c-b5e2-47e8-a0fc-76be17e31bb0"
      },
      "execution_count": null,
      "outputs": [
        {
          "output_type": "execute_result",
          "data": {
            "text/plain": [
              "-12"
            ]
          },
          "metadata": {},
          "execution_count": 18
        }
      ]
    },
    {
      "cell_type": "code",
      "source": [
        "np.linalg.det(A)"
      ],
      "metadata": {
        "colab": {
          "base_uri": "https://localhost:8080/"
        },
        "outputId": "cefbdd72-5872-4667-accc-a058214086fe",
        "id": "bRyF2dsFLbXC"
      },
      "execution_count": null,
      "outputs": [
        {
          "output_type": "execute_result",
          "data": {
            "text/plain": [
              "-12.0"
            ]
          },
          "metadata": {},
          "execution_count": 19
        }
      ]
    },
    {
      "cell_type": "code",
      "source": [
        "round(np.linalg.det(A))"
      ],
      "metadata": {
        "colab": {
          "base_uri": "https://localhost:8080/"
        },
        "outputId": "61289f7a-a0ac-49c3-e907-79cb80bcf392",
        "id": "sOe1w9FPLbXD"
      },
      "execution_count": null,
      "outputs": [
        {
          "output_type": "execute_result",
          "data": {
            "text/plain": [
              "-12"
            ]
          },
          "metadata": {},
          "execution_count": 20
        }
      ]
    },
    {
      "cell_type": "code",
      "source": [
        "n = 10\n",
        "\n",
        "A=np.random.randint(-10,10,size=(n,n))\n",
        "\n",
        "A"
      ],
      "metadata": {
        "colab": {
          "base_uri": "https://localhost:8080/"
        },
        "outputId": "ac507e8a-bb2f-4c9a-b844-864a3885761b",
        "id": "jzFX1soHGlak"
      },
      "execution_count": null,
      "outputs": [
        {
          "output_type": "execute_result",
          "data": {
            "text/plain": [
              "array([[  5, -10,   6,  -9,   2,  -3,   3,  -4,   8,  -5],\n",
              "       [  8,   1,   0,   4,   8,  -6,  -1,   7, -10,   3],\n",
              "       [ -1,  -1,  -3,  -9, -10,   7,  -2,   3,   9,   5],\n",
              "       [  0,  -2,  -3,  -7,  -4,   7,  -7,  -6,   7,   1],\n",
              "       [  2,   6,   3,   9,  -1,   8,   5, -10,  -6,   5],\n",
              "       [ -8,  -3,  -2,  -1,  -7,  -3,  -6,  -5,   9,  -4],\n",
              "       [ -2, -10,  -8,   0,   5,   5,  -3,   9,   0,   4],\n",
              "       [-10,  -9,   7,   3,  -7, -10,   3,  -4,  -4,  -8],\n",
              "       [  2,   1,  -3,   3,  -2,   1,   2,   1,  -6,  -3],\n",
              "       [ -3,   3,  -6,   6,   8, -10,   3,   0,   7,  -3]])"
            ]
          },
          "metadata": {},
          "execution_count": 21
        }
      ]
    },
    {
      "cell_type": "code",
      "source": [
        "import time\n",
        "\n",
        "start_time = time.time()\n",
        "d = det(A)\n",
        "end_time = time.time()"
      ],
      "metadata": {
        "id": "I97qAqxGGlak"
      },
      "execution_count": null,
      "outputs": []
    },
    {
      "cell_type": "code",
      "source": [
        "print(\"det(A): \",d)\n",
        "print(\"time: \",end_time - start_time)"
      ],
      "metadata": {
        "colab": {
          "base_uri": "https://localhost:8080/"
        },
        "id": "s7Ud-gBiTD0n",
        "outputId": "5c1b11d1-99c7-42c5-8fa7-1d813e8f9c5b"
      },
      "execution_count": null,
      "outputs": [
        {
          "output_type": "stream",
          "name": "stdout",
          "text": [
            "det(A):  29129065307\n",
            "time:  75.68686175346375\n"
          ]
        }
      ]
    },
    {
      "cell_type": "code",
      "source": [
        "import time\n",
        "\n",
        "start_time = time.time()\n",
        "d = determinant(A)\n",
        "end_time = time.time()"
      ],
      "metadata": {
        "id": "kjLXFQOeTRd2"
      },
      "execution_count": null,
      "outputs": []
    },
    {
      "cell_type": "code",
      "source": [
        "print(\"determinant(A): \",d)\n",
        "print(\"time: \",end_time - start_time)"
      ],
      "metadata": {
        "colab": {
          "base_uri": "https://localhost:8080/"
        },
        "id": "_TQFWy4ZSiDZ",
        "outputId": "fe391704-f7fa-4db7-ff5b-81df50fbc17c"
      },
      "execution_count": null,
      "outputs": [
        {
          "output_type": "stream",
          "name": "stdout",
          "text": [
            "determinant(A):  29129065307\n",
            "time:  34.383426904678345\n"
          ]
        }
      ]
    },
    {
      "cell_type": "code",
      "source": [
        "import time\n",
        "\n",
        "start_time = time.time()\n",
        "d = np.linalg.det(A)\n",
        "end_time = time.time()"
      ],
      "metadata": {
        "id": "jL23i77VT55-"
      },
      "execution_count": null,
      "outputs": []
    },
    {
      "cell_type": "code",
      "source": [
        "print(\"np.linalg.det(A): \",d)\n",
        "print(\"time: \",end_time - start_time)"
      ],
      "metadata": {
        "colab": {
          "base_uri": "https://localhost:8080/"
        },
        "id": "n94nx14VT5wn",
        "outputId": "e8e69862-7650-45e7-8e2e-547a5f6ce855"
      },
      "execution_count": null,
      "outputs": [
        {
          "output_type": "stream",
          "name": "stdout",
          "text": [
            "np.linalg.det(A):  29129065306.99992\n",
            "time:  0.0003445148468017578\n"
          ]
        }
      ]
    },
    {
      "cell_type": "markdown",
      "source": [
        "# Estimating the time by instruction in Python in a Colab machine"
      ],
      "metadata": {
        "id": "Ssedt2z56DNC"
      }
    },
    {
      "cell_type": "code",
      "source": [
        "import numpy as np\n",
        "\n",
        "n = 100\n",
        "\n",
        "A = np.ones((n,n))\n",
        "\n",
        "A"
      ],
      "metadata": {
        "colab": {
          "base_uri": "https://localhost:8080/"
        },
        "id": "1KhlyeNi4uwa",
        "outputId": "902184eb-2893-4f24-fc00-3145517474c1"
      },
      "execution_count": null,
      "outputs": [
        {
          "output_type": "execute_result",
          "data": {
            "text/plain": [
              "array([[1., 1., 1., ..., 1., 1., 1.],\n",
              "       [1., 1., 1., ..., 1., 1., 1.],\n",
              "       [1., 1., 1., ..., 1., 1., 1.],\n",
              "       ...,\n",
              "       [1., 1., 1., ..., 1., 1., 1.],\n",
              "       [1., 1., 1., ..., 1., 1., 1.],\n",
              "       [1., 1., 1., ..., 1., 1., 1.]])"
            ]
          },
          "metadata": {},
          "execution_count": 28
        }
      ]
    },
    {
      "cell_type": "code",
      "source": [
        "B = np.ones((n,n))\n",
        "\n",
        "B"
      ],
      "metadata": {
        "colab": {
          "base_uri": "https://localhost:8080/"
        },
        "id": "RKtHO3UY5M87",
        "outputId": "41c0bff2-2c83-43f8-a0b5-ae916f1b3f8a"
      },
      "execution_count": null,
      "outputs": [
        {
          "output_type": "execute_result",
          "data": {
            "text/plain": [
              "array([[1., 1., 1., ..., 1., 1., 1.],\n",
              "       [1., 1., 1., ..., 1., 1., 1.],\n",
              "       [1., 1., 1., ..., 1., 1., 1.],\n",
              "       ...,\n",
              "       [1., 1., 1., ..., 1., 1., 1.],\n",
              "       [1., 1., 1., ..., 1., 1., 1.],\n",
              "       [1., 1., 1., ..., 1., 1., 1.]])"
            ]
          },
          "metadata": {},
          "execution_count": 29
        }
      ]
    },
    {
      "cell_type": "code",
      "source": [
        "import time\n",
        "\n",
        "C= np.zeros((n,n))\n",
        "\n",
        "start_time = time.time()\n",
        "for i in range(n):\n",
        "        for j in range(n):\n",
        "            C[i][j] = 0\n",
        "            for k in range(len(A[0])):\n",
        "                C[i][j] += A[i][k] * B[k][j]\n",
        "end_time = time.time()\n",
        "print(end_time - start_time)"
      ],
      "metadata": {
        "colab": {
          "base_uri": "https://localhost:8080/"
        },
        "id": "0UFSLi-F5P0a",
        "outputId": "74850447-796a-4b12-8c6d-c15921448a56"
      },
      "execution_count": null,
      "outputs": [
        {
          "output_type": "stream",
          "name": "stdout",
          "text": [
            "1.358677625656128\n"
          ]
        }
      ]
    },
    {
      "cell_type": "code",
      "source": [
        "C"
      ],
      "metadata": {
        "colab": {
          "base_uri": "https://localhost:8080/"
        },
        "id": "h9zr4Z9P61bs",
        "outputId": "60958a15-4e2c-495e-e273-fda065a90c23"
      },
      "execution_count": null,
      "outputs": [
        {
          "output_type": "execute_result",
          "data": {
            "text/plain": [
              "array([[100., 100., 100., ..., 100., 100., 100.],\n",
              "       [100., 100., 100., ..., 100., 100., 100.],\n",
              "       [100., 100., 100., ..., 100., 100., 100.],\n",
              "       ...,\n",
              "       [100., 100., 100., ..., 100., 100., 100.],\n",
              "       [100., 100., 100., ..., 100., 100., 100.],\n",
              "       [100., 100., 100., ..., 100., 100., 100.]])"
            ]
          },
          "metadata": {},
          "execution_count": 31
        }
      ]
    },
    {
      "cell_type": "code",
      "source": [
        "time_by_oper_python = (end_time - start_time)/(2*n**3 - n**2)\n",
        "\n",
        "time_by_oper_python"
      ],
      "metadata": {
        "colab": {
          "base_uri": "https://localhost:8080/"
        },
        "id": "iEhaMEK77Ko7",
        "outputId": "1333cbde-a369-4292-ba1f-779e2174aba1"
      },
      "execution_count": null,
      "outputs": [
        {
          "output_type": "execute_result",
          "data": {
            "text/plain": [
              "6.82752575706597e-07"
            ]
          },
          "metadata": {},
          "execution_count": 32
        }
      ]
    },
    {
      "cell_type": "code",
      "source": [
        "import time\n",
        "import numpy as np\n",
        "\n",
        "start_time = time.time()\n",
        "C = A@B\n",
        "end_time = time.time()\n",
        "print(end_time - start_time)"
      ],
      "metadata": {
        "colab": {
          "base_uri": "https://localhost:8080/"
        },
        "id": "TfGsw6UF9o-a",
        "outputId": "b9c32662-dab7-422c-f8fd-5b727eb3e5ba"
      },
      "execution_count": null,
      "outputs": [
        {
          "output_type": "stream",
          "name": "stdout",
          "text": [
            "0.01747894287109375\n"
          ]
        }
      ]
    },
    {
      "cell_type": "code",
      "source": [
        "C"
      ],
      "metadata": {
        "colab": {
          "base_uri": "https://localhost:8080/"
        },
        "id": "Q5MtZtVT93oQ",
        "outputId": "591ed8dc-3a25-4117-b3c2-11aeda861cfe"
      },
      "execution_count": null,
      "outputs": [
        {
          "output_type": "execute_result",
          "data": {
            "text/plain": [
              "array([[100., 100., 100., ..., 100., 100., 100.],\n",
              "       [100., 100., 100., ..., 100., 100., 100.],\n",
              "       [100., 100., 100., ..., 100., 100., 100.],\n",
              "       ...,\n",
              "       [100., 100., 100., ..., 100., 100., 100.],\n",
              "       [100., 100., 100., ..., 100., 100., 100.],\n",
              "       [100., 100., 100., ..., 100., 100., 100.]])"
            ]
          },
          "metadata": {},
          "execution_count": 34
        }
      ]
    },
    {
      "cell_type": "code",
      "source": [
        "time_by_oper_numpy = (end_time - start_time)/(2*n**3 - n**2)\n",
        "\n",
        "time_by_oper_numpy"
      ],
      "metadata": {
        "colab": {
          "base_uri": "https://localhost:8080/"
        },
        "id": "DTVYQYxT-TsJ",
        "outputId": "9c50cec6-a0ba-420b-fcd8-00c709aa83df"
      },
      "execution_count": null,
      "outputs": [
        {
          "output_type": "execute_result",
          "data": {
            "text/plain": [
              "8.783388377434044e-09"
            ]
          },
          "metadata": {},
          "execution_count": 35
        }
      ]
    },
    {
      "cell_type": "markdown",
      "source": [
        "# Time estimation for the digital computer computation of a 3 x 3 matrix determinant by cofactor expansion\n",
        "\n",
        "The number of operations $(+,-,*)$ perfomed  *det(A)* algorithm that calculates\n",
        "\n",
        "$$\\det(A)  = \\sum_{j=1}^n (-1)^{i+j}a_{ij} \\det(A(i∣j)) $$\n",
        "\n",
        "is given by\n",
        "\n",
        "$$\\begin{array}{lll}\n",
        "T(n) & =&  nT(n-1) + 5n , T(1) = 1\\\\\n",
        "\\end{array}\n",
        "$$\n",
        "\n",
        "$$\\begin{array}{lll}\n",
        "T(n) & =&  nT(n-1) + 5n\\\\\n",
        "     & =&  n[(n-1) T(n-2) + 5 (n-1) +10] + 5n  \\\\\n",
        "     & =&  n(n-1) T(n-2) + 5 n  (n-1) + 5n \\\\\n",
        "     & =&  n(n-1) [(n-2) T(n-3) + 5 (n-2)] + 5 n(n-1) + 5n\\\\\n",
        "     & = & n(n-1)(n-2) T(n-3) + 5n(n-1)(n-2)+  5 n  (n-1) + 5n \\\\\n",
        "     & \\vdots\\\\\n",
        "     & = &  n(n-1)(n-2)\\cdots (n -(n-2))  T(1) + [5n(n-1)(n-2)(n-3)\\cdots (n -(n-3))] + \\cdots + [5 n (n-1)]+ 5n \\\\\n",
        "    & = & n! + [5n(n-1)(n-2)(n-3)\\cdots 2] + [5n(n-1)(n-2)(n-3)\\cdots 3]+ \\cdots +[5 n (n-1) (n-3)] + [5 n (n-1)]+ 5n  \n",
        "\\end{array}\n",
        "$$\n",
        "\n",
        "$$T(n) = n! + 5 \\sum_{i=0}^{n-1} n!/i! = n! + 5 n!\\sum_{i=0}^{n-1} \\frac{1}{i!} < n! + 5 e n! < 16 n!  $$\n",
        "\n",
        "1. Asumming that an arithmetic operation takes the *time_by_oper_python* estimated before,  what is the maximun square matrix size for which the deteminant can be computed with cofactor extesion in $\\le$ 3 minute. Report the time at [LABCramer](https://docs.google.com/spreadsheets/d/1JNUbuj3QHcyPmp8i6kNreUFucj2mOvKHkCFHHy7zfws/edit?usp=sharing).\n",
        "\n",
        "2. Run an experiment with a random matrix of that size and report the time at [LABCramer](https://docs.google.com/spreadsheets/d/1JNUbuj3QHcyPmp8i6kNreUFucj2mOvKHkCFHHy7zfws/edit?usp=sharing).\n",
        "\n",
        "If the determinant of a $n \\times n$ square matrix takes $16 n!$ operations how much takes the Crammer solution of $n \\times n$ systems of linear equations?\n",
        "\n",
        "\n",
        "\n",
        "\n"
      ],
      "metadata": {
        "id": "PhAai3wzo_Tc"
      }
    },
    {
      "cell_type": "markdown",
      "source": [
        "*texto en cursiva*#*PUNTO 1*"
      ],
      "metadata": {
        "id": "jVyCzC0fbsm7"
      }
    },
    {
      "cell_type": "code",
      "source": [
        "import math\n",
        "\n",
        "def tiempo_cofactor(n):\n",
        "    return math.factorial(n) + 5 * sum(math.factorial(n) // math.factorial(i) for i in range(n))\n",
        "\n",
        "time_by_oper_python= 5.8*10**-7\n",
        "\n",
        "tiempo_limite = 3 * 60\n",
        "\n",
        "n = 1\n",
        "while True:\n",
        "    tiempo_total = tiempo_cofactor(n) * time_by_oper_python\n",
        "    if tiempo_total > tiempo_limite:\n",
        "        break\n",
        "    n += 1\n",
        "\n",
        "print(\"El tamaño máximo de matriz cuadrada es:\", n-1)\n",
        "print(\"El tiempo total en segundos es:\", tiempo_cofactor(n-1) * time_by_oper_python)"
      ],
      "metadata": {
        "id": "RmaNcjNJbsDQ",
        "outputId": "35f01805-b30f-45b2-f757-09bbad1ff4fa",
        "colab": {
          "base_uri": "https://localhost:8080/"
        }
      },
      "execution_count": 1,
      "outputs": [
        {
          "output_type": "stream",
          "name": "stdout",
          "text": [
            "El tamaño máximo de matriz cuadrada es: 10\n",
            "El tiempo total en segundos es: 30.710593999999997\n"
          ]
        }
      ]
    },
    {
      "cell_type": "markdown",
      "source": [
        "#*PUNTO 2*"
      ],
      "metadata": {
        "id": "Bpf5nPapcs5t"
      }
    },
    {
      "cell_type": "code",
      "source": [
        "import numpy as np\n",
        "import math\n",
        "import time\n",
        "\n",
        "\n",
        "def det_by_cofactor(matrix):\n",
        "    n = len(matrix)\n",
        "    if n == 1:\n",
        "        return matrix[0, 0]\n",
        "    det = 0\n",
        "    for j in range(n):\n",
        "        sign = (-1) ** (0 + j)\n",
        "        sub_matrix = np.delete(matrix, 0, axis=0)\n",
        "        sub_matrix = np.delete(sub_matrix, j, axis=1)\n",
        "        det += sign * matrix[0, j] * det_by_cofactor(sub_matrix)\n",
        "    return det\n",
        "\n",
        "\n",
        "max_matrix_size = 10\n",
        "\n",
        "random_matrix = np.random.randint(1, 10, size=(max_matrix_size, max_matrix_size))\n",
        "\n",
        "start_time = time.time()\n",
        "determinant = det_by_cofactor(random_matrix)\n",
        "end_time = time.time()\n",
        "\n",
        "time_by_oper_python = 5.8*10**-7\n",
        "tiempo_total= tiempo_cofactor(max_matrix_size) * time_by_oper_python\n",
        "\n",
        "# Reportar resultados\n",
        "print(\"Matriz aleatoria de tamaño\", max_matrix_size, \"x\", max_matrix_size, \":\\n\", random_matrix)\n",
        "print(\"Valor determinante:\", determinant)\n",
        "print(\"Tiempo de cálculo total (en segundos):\", tiempo_total)\n",
        "print(\"Tiempo de cálculo real (en segundos):\", end_time - start_time)\n"
      ],
      "metadata": {
        "id": "ALz9kK0cb4Rp",
        "outputId": "c9ea4860-0b84-4d19-f480-c6f41a68f2fb",
        "colab": {
          "base_uri": "https://localhost:8080/"
        }
      },
      "execution_count": 2,
      "outputs": [
        {
          "output_type": "stream",
          "name": "stdout",
          "text": [
            "Matriz aleatoria de tamaño 10 x 10 :\n",
            " [[4 6 7 2 6 5 5 4 9 8]\n",
            " [8 5 1 2 6 9 5 5 2 1]\n",
            " [1 3 6 1 6 4 1 5 6 4]\n",
            " [7 1 3 1 5 9 3 6 2 4]\n",
            " [5 1 1 2 7 7 2 8 7 8]\n",
            " [3 7 1 9 9 7 7 2 4 9]\n",
            " [7 3 3 4 6 4 3 6 8 4]\n",
            " [1 3 9 3 2 3 1 4 2 2]\n",
            " [3 6 4 1 7 3 5 1 3 7]\n",
            " [1 8 1 1 8 6 4 9 2 4]]\n",
            "Valor determinante: 17205888\n",
            "Tiempo de cálculo total (en segundos): 30.710593999999997\n",
            "Tiempo de cálculo real (en segundos): 77.25337815284729\n"
          ]
        }
      ]
    },
    {
      "cell_type": "markdown",
      "source": [
        "# Time estimation for the human computer computation of a 3 x 3 matrix determinant by cofactor expansion\n",
        "\n",
        " Write a 3 x 3 matrix with the first element as your list number Mod 10 and the rest row by row 1,2,3,...9 skipimg the first element, by example if youir list number is 12, your list number Mod 10 is 2 and the matrix is\n",
        "$$A = \\left[\n",
        "  \\begin{array}{ccc}\n",
        "2 & 1 & 3\\\\\n",
        "4 & 5 & 6\\\\\n",
        "7 & 8 & 9\\\\\n",
        "\\end{array}\n",
        "\\right]\n",
        "$$\n",
        "Use a chronometer like http://online-stopwatch.chronme.com/ to estimate the time to compute the determinant by using the procedure in the follo wing exmaple (https://people.math.carleton.ca/~kcheung/math/notes/MATH1107/07/07_cofactor_expansion.html):<br />  \n",
        "Let\n",
        "$$A = \\begin{bmatrix} 1 & 2 & 3\\\\ 4 & 5 & 6\\\\ 7 & 8 & 9 \\end{bmatrix}$$\n",
        "we compute $\\det(A)$ by expanding along row $2$ as <br /> <br />\n",
        "$$\\begin{eqnarray} \\det(A) & = & (-1)^{2+1}A_{2,1}\\det(A(2 \\mid 1)) + (-1)^{2+2}A_{2,2}\\det(A(2 \\mid 2)) + (-1)^{2+3}A_{2,3}\\det(A(2 \\mid 3)) \\\\ & = & -4\\left|\\begin{matrix} 2 & 3 \\\\ 8 & 9\\end{matrix}\\right| + 5\\left|\\begin{matrix} 1 & 3 \\\\ 7 & 9\\end{matrix}\\right| - 6\\left|\\begin{matrix} 1 & 2 \\\\ 7 & 8\\end{matrix}\\right| \\\\ & = & -4(2\\cdot 9 - 3\\cdot 8) + 5(1 \\cdot 9- 3\\cdot 7) - 6(1\\cdot 8 - 2 \\cdot 7) \\\\ & = & 24 - 60 + 36 \\\\ & = & 0 \\end{eqnarray}$$\n",
        "3. Report the time at [LABCramer](https://docs.google.com/spreadsheets/d/1JNUbuj3QHcyPmp8i6kNreUFucj2mOvKHkCFHHy7zfws/edit?usp=sharing)\n",
        "4. Report the value of the determinant at [LABCramer](https://docs.google.com/spreadsheets/d/1JNUbuj3QHcyPmp8i6kNreUFucj2mOvKHkCFHHy7zfws/edit?usp=sharing)\n"
      ],
      "metadata": {
        "id": "__brdhGadAXY"
      }
    },
    {
      "cell_type": "markdown",
      "source": [
        "## My list number is 46 Mod 10 is 6\n",
        "\n",
        "\n",
        "$$A = \\left[\n",
        "  \\begin{array}{ccc}\n",
        "6 & 1 & 2\\\\\n",
        "3 & 4 & 5\\\\\n",
        "7 & 8 & 9\\\\\n",
        "\\end{array}\n",
        "\\right]\n",
        "$$\n",
        "\n"
      ],
      "metadata": {
        "id": "bl-FJ4X2Ia-e"
      }
    },
    {
      "cell_type": "markdown",
      "source": [
        "#*PUNTO 3*"
      ],
      "metadata": {
        "id": "Ny-1eOnvejEo"
      }
    },
    {
      "cell_type": "markdown",
      "source": [
        "![image.png](data:image/png;base64,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)"
      ],
      "metadata": {
        "id": "LsJSoFl0qVYD"
      }
    },
    {
      "cell_type": "markdown",
      "source": [
        "#*PUNTO 4*"
      ],
      "metadata": {
        "id": "6LH92BowfL11"
      }
    },
    {
      "cell_type": "markdown",
      "source": [
        "### **Valor determinante = -24**"
      ],
      "metadata": {
        "id": "IEzv4PSFf2nZ"
      }
    }
  ]
}